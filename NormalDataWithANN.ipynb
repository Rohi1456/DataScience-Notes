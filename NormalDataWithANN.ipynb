{
  "nbformat": 4,
  "nbformat_minor": 0,
  "metadata": {
    "colab": {
      "name": "NormalDataWithANN.ipynb",
      "provenance": []
    },
    "kernelspec": {
      "name": "python3",
      "display_name": "Python 3"
    },
    "accelerator": "GPU"
  },
  "cells": [
    {
      "cell_type": "code",
      "metadata": {
        "id": "nmdltodN0HgL",
        "colab_type": "code",
        "colab": {}
      },
      "source": [
        "import pandas as pd\n",
        "import numpy as np\n",
        "import matplotlib.pyplot as plt"
      ],
      "execution_count": 0,
      "outputs": []
    },
    {
      "cell_type": "code",
      "metadata": {
        "id": "xcRh5PYX1tcm",
        "colab_type": "code",
        "outputId": "92ffb815-fb63-4692-815d-232a90b3f142",
        "colab": {
          "base_uri": "https://localhost:8080/",
          "height": 257
        }
      },
      "source": [
        "data = pd.read_csv('Churn_Modelling.csv',index_col = 'RowNumber')\n",
        "data.head()"
      ],
      "execution_count": 0,
      "outputs": [
        {
          "output_type": "execute_result",
          "data": {
            "text/html": [
              "<div>\n",
              "<style scoped>\n",
              "    .dataframe tbody tr th:only-of-type {\n",
              "        vertical-align: middle;\n",
              "    }\n",
              "\n",
              "    .dataframe tbody tr th {\n",
              "        vertical-align: top;\n",
              "    }\n",
              "\n",
              "    .dataframe thead th {\n",
              "        text-align: right;\n",
              "    }\n",
              "</style>\n",
              "<table border=\"1\" class=\"dataframe\">\n",
              "  <thead>\n",
              "    <tr style=\"text-align: right;\">\n",
              "      <th></th>\n",
              "      <th>CustomerId</th>\n",
              "      <th>Surname</th>\n",
              "      <th>CreditScore</th>\n",
              "      <th>Geography</th>\n",
              "      <th>Gender</th>\n",
              "      <th>Age</th>\n",
              "      <th>Tenure</th>\n",
              "      <th>Balance</th>\n",
              "      <th>NumOfProducts</th>\n",
              "      <th>HasCrCard</th>\n",
              "      <th>IsActiveMember</th>\n",
              "      <th>EstimatedSalary</th>\n",
              "      <th>Exited</th>\n",
              "    </tr>\n",
              "    <tr>\n",
              "      <th>RowNumber</th>\n",
              "      <th></th>\n",
              "      <th></th>\n",
              "      <th></th>\n",
              "      <th></th>\n",
              "      <th></th>\n",
              "      <th></th>\n",
              "      <th></th>\n",
              "      <th></th>\n",
              "      <th></th>\n",
              "      <th></th>\n",
              "      <th></th>\n",
              "      <th></th>\n",
              "      <th></th>\n",
              "    </tr>\n",
              "  </thead>\n",
              "  <tbody>\n",
              "    <tr>\n",
              "      <th>1</th>\n",
              "      <td>15634602</td>\n",
              "      <td>Hargrave</td>\n",
              "      <td>619</td>\n",
              "      <td>France</td>\n",
              "      <td>Female</td>\n",
              "      <td>42</td>\n",
              "      <td>2</td>\n",
              "      <td>0.00</td>\n",
              "      <td>1</td>\n",
              "      <td>1</td>\n",
              "      <td>1</td>\n",
              "      <td>101348.88</td>\n",
              "      <td>1</td>\n",
              "    </tr>\n",
              "    <tr>\n",
              "      <th>2</th>\n",
              "      <td>15647311</td>\n",
              "      <td>Hill</td>\n",
              "      <td>608</td>\n",
              "      <td>Spain</td>\n",
              "      <td>Female</td>\n",
              "      <td>41</td>\n",
              "      <td>1</td>\n",
              "      <td>83807.86</td>\n",
              "      <td>1</td>\n",
              "      <td>0</td>\n",
              "      <td>1</td>\n",
              "      <td>112542.58</td>\n",
              "      <td>0</td>\n",
              "    </tr>\n",
              "    <tr>\n",
              "      <th>3</th>\n",
              "      <td>15619304</td>\n",
              "      <td>Onio</td>\n",
              "      <td>502</td>\n",
              "      <td>France</td>\n",
              "      <td>Female</td>\n",
              "      <td>42</td>\n",
              "      <td>8</td>\n",
              "      <td>159660.80</td>\n",
              "      <td>3</td>\n",
              "      <td>1</td>\n",
              "      <td>0</td>\n",
              "      <td>113931.57</td>\n",
              "      <td>1</td>\n",
              "    </tr>\n",
              "    <tr>\n",
              "      <th>4</th>\n",
              "      <td>15701354</td>\n",
              "      <td>Boni</td>\n",
              "      <td>699</td>\n",
              "      <td>France</td>\n",
              "      <td>Female</td>\n",
              "      <td>39</td>\n",
              "      <td>1</td>\n",
              "      <td>0.00</td>\n",
              "      <td>2</td>\n",
              "      <td>0</td>\n",
              "      <td>0</td>\n",
              "      <td>93826.63</td>\n",
              "      <td>0</td>\n",
              "    </tr>\n",
              "    <tr>\n",
              "      <th>5</th>\n",
              "      <td>15737888</td>\n",
              "      <td>Mitchell</td>\n",
              "      <td>850</td>\n",
              "      <td>Spain</td>\n",
              "      <td>Female</td>\n",
              "      <td>43</td>\n",
              "      <td>2</td>\n",
              "      <td>125510.82</td>\n",
              "      <td>1</td>\n",
              "      <td>1</td>\n",
              "      <td>1</td>\n",
              "      <td>79084.10</td>\n",
              "      <td>0</td>\n",
              "    </tr>\n",
              "  </tbody>\n",
              "</table>\n",
              "</div>"
            ],
            "text/plain": [
              "           CustomerId   Surname  ...  EstimatedSalary Exited\n",
              "RowNumber                        ...                        \n",
              "1            15634602  Hargrave  ...        101348.88      1\n",
              "2            15647311      Hill  ...        112542.58      0\n",
              "3            15619304      Onio  ...        113931.57      1\n",
              "4            15701354      Boni  ...         93826.63      0\n",
              "5            15737888  Mitchell  ...         79084.10      0\n",
              "\n",
              "[5 rows x 13 columns]"
            ]
          },
          "metadata": {
            "tags": []
          },
          "execution_count": 7
        }
      ]
    },
    {
      "cell_type": "code",
      "metadata": {
        "id": "wMLWl8eg15xL",
        "colab_type": "code",
        "colab": {}
      },
      "source": [
        "X = data.iloc[:,2:-1]\n",
        "Y = data[['Exited']]"
      ],
      "execution_count": 0,
      "outputs": []
    },
    {
      "cell_type": "code",
      "metadata": {
        "id": "zDihC86C23HK",
        "colab_type": "code",
        "outputId": "f903551c-1f91-4643-873d-07506f3ef933",
        "colab": {
          "base_uri": "https://localhost:8080/",
          "height": 237
        }
      },
      "source": [
        "X.head()"
      ],
      "execution_count": 0,
      "outputs": [
        {
          "output_type": "execute_result",
          "data": {
            "text/html": [
              "<div>\n",
              "<style scoped>\n",
              "    .dataframe tbody tr th:only-of-type {\n",
              "        vertical-align: middle;\n",
              "    }\n",
              "\n",
              "    .dataframe tbody tr th {\n",
              "        vertical-align: top;\n",
              "    }\n",
              "\n",
              "    .dataframe thead th {\n",
              "        text-align: right;\n",
              "    }\n",
              "</style>\n",
              "<table border=\"1\" class=\"dataframe\">\n",
              "  <thead>\n",
              "    <tr style=\"text-align: right;\">\n",
              "      <th></th>\n",
              "      <th>CreditScore</th>\n",
              "      <th>Geography</th>\n",
              "      <th>Gender</th>\n",
              "      <th>Age</th>\n",
              "      <th>Tenure</th>\n",
              "      <th>Balance</th>\n",
              "      <th>NumOfProducts</th>\n",
              "      <th>HasCrCard</th>\n",
              "      <th>IsActiveMember</th>\n",
              "      <th>EstimatedSalary</th>\n",
              "    </tr>\n",
              "    <tr>\n",
              "      <th>RowNumber</th>\n",
              "      <th></th>\n",
              "      <th></th>\n",
              "      <th></th>\n",
              "      <th></th>\n",
              "      <th></th>\n",
              "      <th></th>\n",
              "      <th></th>\n",
              "      <th></th>\n",
              "      <th></th>\n",
              "      <th></th>\n",
              "    </tr>\n",
              "  </thead>\n",
              "  <tbody>\n",
              "    <tr>\n",
              "      <th>1</th>\n",
              "      <td>619</td>\n",
              "      <td>France</td>\n",
              "      <td>Female</td>\n",
              "      <td>42</td>\n",
              "      <td>2</td>\n",
              "      <td>0.00</td>\n",
              "      <td>1</td>\n",
              "      <td>1</td>\n",
              "      <td>1</td>\n",
              "      <td>101348.88</td>\n",
              "    </tr>\n",
              "    <tr>\n",
              "      <th>2</th>\n",
              "      <td>608</td>\n",
              "      <td>Spain</td>\n",
              "      <td>Female</td>\n",
              "      <td>41</td>\n",
              "      <td>1</td>\n",
              "      <td>83807.86</td>\n",
              "      <td>1</td>\n",
              "      <td>0</td>\n",
              "      <td>1</td>\n",
              "      <td>112542.58</td>\n",
              "    </tr>\n",
              "    <tr>\n",
              "      <th>3</th>\n",
              "      <td>502</td>\n",
              "      <td>France</td>\n",
              "      <td>Female</td>\n",
              "      <td>42</td>\n",
              "      <td>8</td>\n",
              "      <td>159660.80</td>\n",
              "      <td>3</td>\n",
              "      <td>1</td>\n",
              "      <td>0</td>\n",
              "      <td>113931.57</td>\n",
              "    </tr>\n",
              "    <tr>\n",
              "      <th>4</th>\n",
              "      <td>699</td>\n",
              "      <td>France</td>\n",
              "      <td>Female</td>\n",
              "      <td>39</td>\n",
              "      <td>1</td>\n",
              "      <td>0.00</td>\n",
              "      <td>2</td>\n",
              "      <td>0</td>\n",
              "      <td>0</td>\n",
              "      <td>93826.63</td>\n",
              "    </tr>\n",
              "    <tr>\n",
              "      <th>5</th>\n",
              "      <td>850</td>\n",
              "      <td>Spain</td>\n",
              "      <td>Female</td>\n",
              "      <td>43</td>\n",
              "      <td>2</td>\n",
              "      <td>125510.82</td>\n",
              "      <td>1</td>\n",
              "      <td>1</td>\n",
              "      <td>1</td>\n",
              "      <td>79084.10</td>\n",
              "    </tr>\n",
              "  </tbody>\n",
              "</table>\n",
              "</div>"
            ],
            "text/plain": [
              "           CreditScore Geography  ... IsActiveMember  EstimatedSalary\n",
              "RowNumber                         ...                                \n",
              "1                  619    France  ...              1        101348.88\n",
              "2                  608     Spain  ...              1        112542.58\n",
              "3                  502    France  ...              0        113931.57\n",
              "4                  699    France  ...              0         93826.63\n",
              "5                  850     Spain  ...              1         79084.10\n",
              "\n",
              "[5 rows x 10 columns]"
            ]
          },
          "metadata": {
            "tags": []
          },
          "execution_count": 56
        }
      ]
    },
    {
      "cell_type": "code",
      "metadata": {
        "id": "N-Q9J3IA25cm",
        "colab_type": "code",
        "outputId": "8e2f5caf-19e8-4503-cc38-ad5a7bde0765",
        "colab": {
          "base_uri": "https://localhost:8080/",
          "height": 237
        }
      },
      "source": [
        "Y.head()"
      ],
      "execution_count": 0,
      "outputs": [
        {
          "output_type": "execute_result",
          "data": {
            "text/html": [
              "<div>\n",
              "<style scoped>\n",
              "    .dataframe tbody tr th:only-of-type {\n",
              "        vertical-align: middle;\n",
              "    }\n",
              "\n",
              "    .dataframe tbody tr th {\n",
              "        vertical-align: top;\n",
              "    }\n",
              "\n",
              "    .dataframe thead th {\n",
              "        text-align: right;\n",
              "    }\n",
              "</style>\n",
              "<table border=\"1\" class=\"dataframe\">\n",
              "  <thead>\n",
              "    <tr style=\"text-align: right;\">\n",
              "      <th></th>\n",
              "      <th>Exited</th>\n",
              "    </tr>\n",
              "    <tr>\n",
              "      <th>RowNumber</th>\n",
              "      <th></th>\n",
              "    </tr>\n",
              "  </thead>\n",
              "  <tbody>\n",
              "    <tr>\n",
              "      <th>1</th>\n",
              "      <td>1</td>\n",
              "    </tr>\n",
              "    <tr>\n",
              "      <th>2</th>\n",
              "      <td>0</td>\n",
              "    </tr>\n",
              "    <tr>\n",
              "      <th>3</th>\n",
              "      <td>1</td>\n",
              "    </tr>\n",
              "    <tr>\n",
              "      <th>4</th>\n",
              "      <td>0</td>\n",
              "    </tr>\n",
              "    <tr>\n",
              "      <th>5</th>\n",
              "      <td>0</td>\n",
              "    </tr>\n",
              "  </tbody>\n",
              "</table>\n",
              "</div>"
            ],
            "text/plain": [
              "           Exited\n",
              "RowNumber        \n",
              "1               1\n",
              "2               0\n",
              "3               1\n",
              "4               0\n",
              "5               0"
            ]
          },
          "metadata": {
            "tags": []
          },
          "execution_count": 57
        }
      ]
    },
    {
      "cell_type": "code",
      "metadata": {
        "id": "o_lYd4e53Ewf",
        "colab_type": "code",
        "outputId": "fe2c2ac1-4799-4ba2-f0b8-3cec3b244864",
        "colab": {
          "base_uri": "https://localhost:8080/",
          "height": 257
        }
      },
      "source": [
        "X = pd.get_dummies(X,drop_first = True)\n",
        "X.head()"
      ],
      "execution_count": 0,
      "outputs": [
        {
          "output_type": "execute_result",
          "data": {
            "text/html": [
              "<div>\n",
              "<style scoped>\n",
              "    .dataframe tbody tr th:only-of-type {\n",
              "        vertical-align: middle;\n",
              "    }\n",
              "\n",
              "    .dataframe tbody tr th {\n",
              "        vertical-align: top;\n",
              "    }\n",
              "\n",
              "    .dataframe thead th {\n",
              "        text-align: right;\n",
              "    }\n",
              "</style>\n",
              "<table border=\"1\" class=\"dataframe\">\n",
              "  <thead>\n",
              "    <tr style=\"text-align: right;\">\n",
              "      <th></th>\n",
              "      <th>CreditScore</th>\n",
              "      <th>Age</th>\n",
              "      <th>Tenure</th>\n",
              "      <th>Balance</th>\n",
              "      <th>NumOfProducts</th>\n",
              "      <th>HasCrCard</th>\n",
              "      <th>IsActiveMember</th>\n",
              "      <th>EstimatedSalary</th>\n",
              "      <th>Geography_Germany</th>\n",
              "      <th>Geography_Spain</th>\n",
              "      <th>Gender_Male</th>\n",
              "    </tr>\n",
              "    <tr>\n",
              "      <th>RowNumber</th>\n",
              "      <th></th>\n",
              "      <th></th>\n",
              "      <th></th>\n",
              "      <th></th>\n",
              "      <th></th>\n",
              "      <th></th>\n",
              "      <th></th>\n",
              "      <th></th>\n",
              "      <th></th>\n",
              "      <th></th>\n",
              "      <th></th>\n",
              "    </tr>\n",
              "  </thead>\n",
              "  <tbody>\n",
              "    <tr>\n",
              "      <th>1</th>\n",
              "      <td>619</td>\n",
              "      <td>42</td>\n",
              "      <td>2</td>\n",
              "      <td>0.00</td>\n",
              "      <td>1</td>\n",
              "      <td>1</td>\n",
              "      <td>1</td>\n",
              "      <td>101348.88</td>\n",
              "      <td>0</td>\n",
              "      <td>0</td>\n",
              "      <td>0</td>\n",
              "    </tr>\n",
              "    <tr>\n",
              "      <th>2</th>\n",
              "      <td>608</td>\n",
              "      <td>41</td>\n",
              "      <td>1</td>\n",
              "      <td>83807.86</td>\n",
              "      <td>1</td>\n",
              "      <td>0</td>\n",
              "      <td>1</td>\n",
              "      <td>112542.58</td>\n",
              "      <td>0</td>\n",
              "      <td>1</td>\n",
              "      <td>0</td>\n",
              "    </tr>\n",
              "    <tr>\n",
              "      <th>3</th>\n",
              "      <td>502</td>\n",
              "      <td>42</td>\n",
              "      <td>8</td>\n",
              "      <td>159660.80</td>\n",
              "      <td>3</td>\n",
              "      <td>1</td>\n",
              "      <td>0</td>\n",
              "      <td>113931.57</td>\n",
              "      <td>0</td>\n",
              "      <td>0</td>\n",
              "      <td>0</td>\n",
              "    </tr>\n",
              "    <tr>\n",
              "      <th>4</th>\n",
              "      <td>699</td>\n",
              "      <td>39</td>\n",
              "      <td>1</td>\n",
              "      <td>0.00</td>\n",
              "      <td>2</td>\n",
              "      <td>0</td>\n",
              "      <td>0</td>\n",
              "      <td>93826.63</td>\n",
              "      <td>0</td>\n",
              "      <td>0</td>\n",
              "      <td>0</td>\n",
              "    </tr>\n",
              "    <tr>\n",
              "      <th>5</th>\n",
              "      <td>850</td>\n",
              "      <td>43</td>\n",
              "      <td>2</td>\n",
              "      <td>125510.82</td>\n",
              "      <td>1</td>\n",
              "      <td>1</td>\n",
              "      <td>1</td>\n",
              "      <td>79084.10</td>\n",
              "      <td>0</td>\n",
              "      <td>1</td>\n",
              "      <td>0</td>\n",
              "    </tr>\n",
              "  </tbody>\n",
              "</table>\n",
              "</div>"
            ],
            "text/plain": [
              "           CreditScore  Age  ...  Geography_Spain  Gender_Male\n",
              "RowNumber                    ...                              \n",
              "1                  619   42  ...                0            0\n",
              "2                  608   41  ...                1            0\n",
              "3                  502   42  ...                0            0\n",
              "4                  699   39  ...                0            0\n",
              "5                  850   43  ...                1            0\n",
              "\n",
              "[5 rows x 11 columns]"
            ]
          },
          "metadata": {
            "tags": []
          },
          "execution_count": 58
        }
      ]
    },
    {
      "cell_type": "code",
      "metadata": {
        "id": "Mwus9ltT3PV6",
        "colab_type": "code",
        "colab": {}
      },
      "source": [
        "from sklearn.model_selection import train_test_split\n",
        "X_train,X_test,Y_train,Y_test = train_test_split(X,Y,test_size = .2)"
      ],
      "execution_count": 0,
      "outputs": []
    },
    {
      "cell_type": "code",
      "metadata": {
        "id": "QCDwVlI23iyY",
        "colab_type": "code",
        "colab": {}
      },
      "source": [
        "from sklearn.preprocessing import StandardScaler\n",
        "sc = StandardScaler()\n",
        "X_train = sc.fit_transform(X_train)\n",
        "X_test = sc.fit_transform(X_test)"
      ],
      "execution_count": 0,
      "outputs": []
    },
    {
      "cell_type": "code",
      "metadata": {
        "id": "BhmBX3ID3z5H",
        "colab_type": "code",
        "outputId": "a1544fd1-1b67-4b7f-f922-0c0f08a14e55",
        "colab": {
          "base_uri": "https://localhost:8080/",
          "height": 34
        }
      },
      "source": [
        "X_test.shape\n"
      ],
      "execution_count": 0,
      "outputs": [
        {
          "output_type": "execute_result",
          "data": {
            "text/plain": [
              "(2000, 11)"
            ]
          },
          "metadata": {
            "tags": []
          },
          "execution_count": 61
        }
      ]
    },
    {
      "cell_type": "code",
      "metadata": {
        "id": "RsqVAD4L35x9",
        "colab_type": "code",
        "outputId": "127e7a66-5249-44a3-981b-9bfa191f339d",
        "colab": {
          "base_uri": "https://localhost:8080/",
          "height": 34
        }
      },
      "source": [
        "X_train.shape"
      ],
      "execution_count": 0,
      "outputs": [
        {
          "output_type": "execute_result",
          "data": {
            "text/plain": [
              "(8000, 11)"
            ]
          },
          "metadata": {
            "tags": []
          },
          "execution_count": 62
        }
      ]
    },
    {
      "cell_type": "code",
      "metadata": {
        "id": "yUFPGGxr39V8",
        "colab_type": "code",
        "outputId": "0c1b46ac-7d86-4481-9ceb-b06a53ed7915",
        "colab": {
          "base_uri": "https://localhost:8080/",
          "height": 34
        }
      },
      "source": [
        "Y_train.shape"
      ],
      "execution_count": 0,
      "outputs": [
        {
          "output_type": "execute_result",
          "data": {
            "text/plain": [
              "(8000, 1)"
            ]
          },
          "metadata": {
            "tags": []
          },
          "execution_count": 63
        }
      ]
    },
    {
      "cell_type": "code",
      "metadata": {
        "id": "7g9yx3e44BE9",
        "colab_type": "code",
        "colab": {}
      },
      "source": [
        "import keras\n",
        "#high level library using tensorflow"
      ],
      "execution_count": 0,
      "outputs": []
    },
    {
      "cell_type": "code",
      "metadata": {
        "id": "IefAiw7D4LM5",
        "colab_type": "code",
        "colab": {}
      },
      "source": [
        "from keras.models import Sequential \n",
        "from keras.layers import Dense,Dropout"
      ],
      "execution_count": 0,
      "outputs": []
    },
    {
      "cell_type": "code",
      "metadata": {
        "id": "2FS_1CxY4YWu",
        "colab_type": "code",
        "colab": {}
      },
      "source": [
        "model = Sequential()\n",
        "#what kind of model model\n",
        "model.add(Dense(15,activation='relu',input_dim=11))\n",
        "model.add(Dropout(0.3))\n",
        "model.add(Dense(10,activation='relu'))\n",
        "model.add(Dropout(0.3))\n",
        "model.add(Dense(7,activation='relu'))\n",
        "model.add(Dropout(0.2))\n",
        "\n",
        "model.add(Dense(3,activation='relu'))\n",
        "\n",
        "model.add(Dense(1,activation='sigmoid'))\n",
        "\n",
        "#input dimensions  number is no.of features\n",
        "#add layers\n"
      ],
      "execution_count": 0,
      "outputs": []
    },
    {
      "cell_type": "code",
      "metadata": {
        "id": "TLDpeCfU4gz1",
        "colab_type": "code",
        "colab": {}
      },
      "source": [
        "model.compile(optimizer='adam',loss='binary_crossentropy',metrics = ['accuracy'])"
      ],
      "execution_count": 0,
      "outputs": []
    },
    {
      "cell_type": "code",
      "metadata": {
        "id": "T3gip5DX-010",
        "colab_type": "code",
        "outputId": "220e411e-0ab5-4ff4-9c8f-a76c8839f263",
        "colab": {
          "base_uri": "https://localhost:8080/",
          "height": 434
        }
      },
      "source": [
        "model.summary()"
      ],
      "execution_count": 0,
      "outputs": [
        {
          "output_type": "stream",
          "text": [
            "Model: \"sequential_8\"\n",
            "_________________________________________________________________\n",
            "Layer (type)                 Output Shape              Param #   \n",
            "=================================================================\n",
            "dense_18 (Dense)             (None, 15)                180       \n",
            "_________________________________________________________________\n",
            "dropout_10 (Dropout)         (None, 15)                0         \n",
            "_________________________________________________________________\n",
            "dense_19 (Dense)             (None, 10)                160       \n",
            "_________________________________________________________________\n",
            "dropout_11 (Dropout)         (None, 10)                0         \n",
            "_________________________________________________________________\n",
            "dense_20 (Dense)             (None, 7)                 77        \n",
            "_________________________________________________________________\n",
            "dropout_12 (Dropout)         (None, 7)                 0         \n",
            "_________________________________________________________________\n",
            "dense_21 (Dense)             (None, 3)                 24        \n",
            "_________________________________________________________________\n",
            "dense_22 (Dense)             (None, 1)                 4         \n",
            "=================================================================\n",
            "Total params: 445\n",
            "Trainable params: 445\n",
            "Non-trainable params: 0\n",
            "_________________________________________________________________\n"
          ],
          "name": "stdout"
        }
      ]
    },
    {
      "cell_type": "code",
      "metadata": {
        "id": "gb24Fdb4-6-c",
        "colab_type": "code",
        "outputId": "7b2cb0aa-4365-472a-d86a-1a68223a9927",
        "colab": {
          "base_uri": "https://localhost:8080/",
          "height": 1000
        }
      },
      "source": [
        "h = model.fit(X_train,Y_train,epochs=50,batch_size=25,validation_split=0.2,verbose=1,shuffle=True)"
      ],
      "execution_count": 0,
      "outputs": [
        {
          "output_type": "stream",
          "text": [
            "WARNING:tensorflow:From /usr/local/lib/python3.6/dist-packages/keras/backend/tensorflow_backend.py:1033: The name tf.assign_add is deprecated. Please use tf.compat.v1.assign_add instead.\n",
            "\n",
            "WARNING:tensorflow:From /usr/local/lib/python3.6/dist-packages/keras/backend/tensorflow_backend.py:1020: The name tf.assign is deprecated. Please use tf.compat.v1.assign instead.\n",
            "\n",
            "WARNING:tensorflow:From /usr/local/lib/python3.6/dist-packages/keras/backend/tensorflow_backend.py:3005: The name tf.Session is deprecated. Please use tf.compat.v1.Session instead.\n",
            "\n",
            "Train on 6400 samples, validate on 1600 samples\n",
            "Epoch 1/50\n",
            "WARNING:tensorflow:From /usr/local/lib/python3.6/dist-packages/keras/backend/tensorflow_backend.py:190: The name tf.get_default_session is deprecated. Please use tf.compat.v1.get_default_session instead.\n",
            "\n",
            "WARNING:tensorflow:From /usr/local/lib/python3.6/dist-packages/keras/backend/tensorflow_backend.py:197: The name tf.ConfigProto is deprecated. Please use tf.compat.v1.ConfigProto instead.\n",
            "\n",
            "WARNING:tensorflow:From /usr/local/lib/python3.6/dist-packages/keras/backend/tensorflow_backend.py:207: The name tf.global_variables is deprecated. Please use tf.compat.v1.global_variables instead.\n",
            "\n",
            "WARNING:tensorflow:From /usr/local/lib/python3.6/dist-packages/keras/backend/tensorflow_backend.py:216: The name tf.is_variable_initialized is deprecated. Please use tf.compat.v1.is_variable_initialized instead.\n",
            "\n",
            "WARNING:tensorflow:From /usr/local/lib/python3.6/dist-packages/keras/backend/tensorflow_backend.py:223: The name tf.variables_initializer is deprecated. Please use tf.compat.v1.variables_initializer instead.\n",
            "\n",
            "6400/6400 [==============================] - 11s 2ms/step - loss: 0.6871 - acc: 0.6916 - val_loss: 0.6320 - val_acc: 0.8019\n",
            "Epoch 2/50\n",
            "6400/6400 [==============================] - 1s 174us/step - loss: 0.6116 - acc: 0.7941 - val_loss: 0.5875 - val_acc: 0.8019\n",
            "Epoch 3/50\n",
            "6400/6400 [==============================] - 1s 176us/step - loss: 0.5671 - acc: 0.7958 - val_loss: 0.5140 - val_acc: 0.8019\n",
            "Epoch 4/50\n",
            "6400/6400 [==============================] - 1s 174us/step - loss: 0.4943 - acc: 0.7962 - val_loss: 0.4528 - val_acc: 0.8019\n",
            "Epoch 5/50\n",
            "6400/6400 [==============================] - 1s 178us/step - loss: 0.4652 - acc: 0.7962 - val_loss: 0.4299 - val_acc: 0.8019\n",
            "Epoch 6/50\n",
            "6400/6400 [==============================] - 1s 171us/step - loss: 0.4553 - acc: 0.8022 - val_loss: 0.4156 - val_acc: 0.8063\n",
            "Epoch 7/50\n",
            "6400/6400 [==============================] - 1s 170us/step - loss: 0.4474 - acc: 0.8058 - val_loss: 0.4137 - val_acc: 0.8031\n",
            "Epoch 8/50\n",
            "6400/6400 [==============================] - 1s 170us/step - loss: 0.4393 - acc: 0.8059 - val_loss: 0.4056 - val_acc: 0.8162\n",
            "Epoch 9/50\n",
            "6400/6400 [==============================] - 1s 172us/step - loss: 0.4355 - acc: 0.8094 - val_loss: 0.3978 - val_acc: 0.8275\n",
            "Epoch 10/50\n",
            "6400/6400 [==============================] - 1s 182us/step - loss: 0.4255 - acc: 0.8125 - val_loss: 0.3938 - val_acc: 0.8300\n",
            "Epoch 11/50\n",
            "6400/6400 [==============================] - 1s 172us/step - loss: 0.4216 - acc: 0.8139 - val_loss: 0.3890 - val_acc: 0.8375\n",
            "Epoch 12/50\n",
            "6400/6400 [==============================] - 1s 176us/step - loss: 0.4163 - acc: 0.8187 - val_loss: 0.3806 - val_acc: 0.8462\n",
            "Epoch 13/50\n",
            "6400/6400 [==============================] - 1s 177us/step - loss: 0.4146 - acc: 0.8177 - val_loss: 0.3767 - val_acc: 0.8494\n",
            "Epoch 14/50\n",
            "6400/6400 [==============================] - 1s 177us/step - loss: 0.4088 - acc: 0.8247 - val_loss: 0.3696 - val_acc: 0.8562\n",
            "Epoch 15/50\n",
            "6400/6400 [==============================] - 1s 176us/step - loss: 0.4068 - acc: 0.8258 - val_loss: 0.3670 - val_acc: 0.8550\n",
            "Epoch 16/50\n",
            "6400/6400 [==============================] - 1s 181us/step - loss: 0.4001 - acc: 0.8281 - val_loss: 0.3591 - val_acc: 0.8581\n",
            "Epoch 17/50\n",
            "6400/6400 [==============================] - 1s 173us/step - loss: 0.3945 - acc: 0.8322 - val_loss: 0.3579 - val_acc: 0.8612\n",
            "Epoch 18/50\n",
            "6400/6400 [==============================] - 1s 176us/step - loss: 0.3891 - acc: 0.8347 - val_loss: 0.3524 - val_acc: 0.8637\n",
            "Epoch 19/50\n",
            "6400/6400 [==============================] - 1s 178us/step - loss: 0.3988 - acc: 0.8303 - val_loss: 0.3536 - val_acc: 0.8631\n",
            "Epoch 20/50\n",
            "6400/6400 [==============================] - 1s 177us/step - loss: 0.3879 - acc: 0.8395 - val_loss: 0.3497 - val_acc: 0.8631\n",
            "Epoch 21/50\n",
            "6400/6400 [==============================] - 1s 178us/step - loss: 0.3855 - acc: 0.8347 - val_loss: 0.3467 - val_acc: 0.8606\n",
            "Epoch 22/50\n",
            "6400/6400 [==============================] - 1s 177us/step - loss: 0.3938 - acc: 0.8319 - val_loss: 0.3497 - val_acc: 0.8619\n",
            "Epoch 23/50\n",
            "6400/6400 [==============================] - 1s 172us/step - loss: 0.3841 - acc: 0.8380 - val_loss: 0.3495 - val_acc: 0.8606\n",
            "Epoch 24/50\n",
            "6400/6400 [==============================] - 1s 181us/step - loss: 0.3827 - acc: 0.8372 - val_loss: 0.3464 - val_acc: 0.8637\n",
            "Epoch 25/50\n",
            "6400/6400 [==============================] - 1s 172us/step - loss: 0.3822 - acc: 0.8367 - val_loss: 0.3441 - val_acc: 0.8637\n",
            "Epoch 26/50\n",
            "6400/6400 [==============================] - 1s 176us/step - loss: 0.3810 - acc: 0.8406 - val_loss: 0.3430 - val_acc: 0.8644\n",
            "Epoch 27/50\n",
            "6400/6400 [==============================] - 1s 170us/step - loss: 0.3778 - acc: 0.8423 - val_loss: 0.3427 - val_acc: 0.8637\n",
            "Epoch 28/50\n",
            "6400/6400 [==============================] - 1s 171us/step - loss: 0.3783 - acc: 0.8391 - val_loss: 0.3422 - val_acc: 0.8631\n",
            "Epoch 29/50\n",
            "6400/6400 [==============================] - 1s 172us/step - loss: 0.3796 - acc: 0.8387 - val_loss: 0.3449 - val_acc: 0.8594\n",
            "Epoch 30/50\n",
            "6400/6400 [==============================] - 1s 184us/step - loss: 0.3781 - acc: 0.8403 - val_loss: 0.3414 - val_acc: 0.8631\n",
            "Epoch 31/50\n",
            "6400/6400 [==============================] - 1s 176us/step - loss: 0.3712 - acc: 0.8430 - val_loss: 0.3408 - val_acc: 0.8631\n",
            "Epoch 32/50\n",
            "6400/6400 [==============================] - 1s 187us/step - loss: 0.3741 - acc: 0.8417 - val_loss: 0.3400 - val_acc: 0.8625\n",
            "Epoch 33/50\n",
            "6400/6400 [==============================] - 1s 181us/step - loss: 0.3734 - acc: 0.8402 - val_loss: 0.3373 - val_acc: 0.8619\n",
            "Epoch 34/50\n",
            "6400/6400 [==============================] - 1s 184us/step - loss: 0.3761 - acc: 0.8484 - val_loss: 0.3412 - val_acc: 0.8581\n",
            "Epoch 35/50\n",
            "6400/6400 [==============================] - 1s 180us/step - loss: 0.3729 - acc: 0.8431 - val_loss: 0.3415 - val_acc: 0.8637\n",
            "Epoch 36/50\n",
            "6400/6400 [==============================] - 1s 179us/step - loss: 0.3691 - acc: 0.8466 - val_loss: 0.3394 - val_acc: 0.8637\n",
            "Epoch 37/50\n",
            "6400/6400 [==============================] - 1s 186us/step - loss: 0.3668 - acc: 0.8481 - val_loss: 0.3387 - val_acc: 0.8625\n",
            "Epoch 38/50\n",
            "6400/6400 [==============================] - 1s 184us/step - loss: 0.3675 - acc: 0.8462 - val_loss: 0.3357 - val_acc: 0.8612\n",
            "Epoch 39/50\n",
            "6400/6400 [==============================] - 1s 178us/step - loss: 0.3747 - acc: 0.8402 - val_loss: 0.3400 - val_acc: 0.8637\n",
            "Epoch 40/50\n",
            "6400/6400 [==============================] - 1s 176us/step - loss: 0.3635 - acc: 0.8456 - val_loss: 0.3389 - val_acc: 0.8625\n",
            "Epoch 41/50\n",
            "6400/6400 [==============================] - 1s 190us/step - loss: 0.3664 - acc: 0.8469 - val_loss: 0.3381 - val_acc: 0.8631\n",
            "Epoch 42/50\n",
            "6400/6400 [==============================] - 1s 176us/step - loss: 0.3615 - acc: 0.8500 - val_loss: 0.3336 - val_acc: 0.8644\n",
            "Epoch 43/50\n",
            "6400/6400 [==============================] - 1s 178us/step - loss: 0.3714 - acc: 0.8428 - val_loss: 0.3360 - val_acc: 0.8637\n",
            "Epoch 44/50\n",
            "6400/6400 [==============================] - 1s 179us/step - loss: 0.3633 - acc: 0.8522 - val_loss: 0.3368 - val_acc: 0.8631\n",
            "Epoch 45/50\n",
            "6400/6400 [==============================] - 1s 182us/step - loss: 0.3604 - acc: 0.8470 - val_loss: 0.3365 - val_acc: 0.8644\n",
            "Epoch 46/50\n",
            "6400/6400 [==============================] - 1s 185us/step - loss: 0.3636 - acc: 0.8456 - val_loss: 0.3342 - val_acc: 0.8644\n",
            "Epoch 47/50\n",
            "6400/6400 [==============================] - 1s 185us/step - loss: 0.3620 - acc: 0.8500 - val_loss: 0.3365 - val_acc: 0.8637\n",
            "Epoch 48/50\n",
            "6400/6400 [==============================] - 1s 190us/step - loss: 0.3609 - acc: 0.8436 - val_loss: 0.3365 - val_acc: 0.8637\n",
            "Epoch 49/50\n",
            "6400/6400 [==============================] - 1s 186us/step - loss: 0.3646 - acc: 0.8472 - val_loss: 0.3366 - val_acc: 0.8625\n",
            "Epoch 50/50\n",
            "6400/6400 [==============================] - 1s 188us/step - loss: 0.3644 - acc: 0.8455 - val_loss: 0.3367 - val_acc: 0.8619\n"
          ],
          "name": "stdout"
        }
      ]
    },
    {
      "cell_type": "code",
      "metadata": {
        "id": "yogkirD8_deY",
        "colab_type": "code",
        "outputId": "e8a18a64-ad9d-4737-98ef-520c6e225d11",
        "colab": {
          "base_uri": "https://localhost:8080/",
          "height": 52
        }
      },
      "source": [
        "model.evaluate(X_test,Y_test)"
      ],
      "execution_count": 0,
      "outputs": [
        {
          "output_type": "stream",
          "text": [
            "2000/2000 [==============================] - 0s 51us/step\n"
          ],
          "name": "stdout"
        },
        {
          "output_type": "execute_result",
          "data": {
            "text/plain": [
              "[0.3593237636089325, 0.857]"
            ]
          },
          "metadata": {
            "tags": []
          },
          "execution_count": 70
        }
      ]
    },
    {
      "cell_type": "code",
      "metadata": {
        "id": "mZlrl633_8qa",
        "colab_type": "code",
        "outputId": "d3d6765b-ca6b-4382-a138-616d708d3a6f",
        "colab": {
          "base_uri": "https://localhost:8080/",
          "height": 284
        }
      },
      "source": [
        "plt.plot(h.history['loss'])\n",
        "plt.plot(h.history['val_loss'])"
      ],
      "execution_count": 0,
      "outputs": [
        {
          "output_type": "execute_result",
          "data": {
            "text/plain": [
              "[<matplotlib.lines.Line2D at 0x7f2e9a783048>]"
            ]
          },
          "metadata": {
            "tags": []
          },
          "execution_count": 71
        },
        {
          "output_type": "display_data",
          "data": {
            "image/png": "[encoded data removed]",
            "text/plain": [
              "<Figure size 432x288 with 1 Axes>"
            ]
          },
          "metadata": {
            "tags": []
          }
        }
      ]
    },
    {
      "cell_type": "code",
      "metadata": {
        "id": "YG1YFxXPAGKq",
        "colab_type": "code",
        "outputId": "4994f4c8-0ca2-4f70-fd8a-7d3880babaa9",
        "colab": {
          "base_uri": "https://localhost:8080/",
          "height": 282
        }
      },
      "source": [
        "plt.plot(h.history['acc'])\n",
        "plt.plot(h.history['val_acc'])"
      ],
      "execution_count": 0,
      "outputs": [
        {
          "output_type": "execute_result",
          "data": {
            "text/plain": [
              "[<matplotlib.lines.Line2D at 0x7f2e8c1d2240>]"
            ]
          },
          "metadata": {
            "tags": []
          },
          "execution_count": 76
        },
        {
          "output_type": "display_data",
          "data": {
            "image/png": "[encoded data removed]",
            "text/plain": [
              "<Figure size 432x288 with 1 Axes>"
            ]
          },
          "metadata": {
            "tags": []
          }
        }
      ]
    },
    {
      "cell_type": "code",
      "metadata": {
        "id": "D1gyDxGSAKs_",
        "colab_type": "code",
        "colab": {}
      },
      "source": [
        ""
      ],
      "execution_count": 0,
      "outputs": []
    }
  ]
}