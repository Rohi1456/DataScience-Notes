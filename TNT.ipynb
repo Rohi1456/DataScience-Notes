{
  "nbformat": 4,
  "nbformat_minor": 0,
  "metadata": {
    "colab": {
      "name": "TNT.ipynb",
      "provenance": []
    },
    "kernelspec": {
      "name": "python3",
      "display_name": "Python 3"
    },
    "accelerator": "GPU"
  },
  "cells": [
    {
      "cell_type": "code",
      "metadata": {
        "id": "X0vbV1tRT7lO",
        "colab_type": "code",
        "colab": {}
      },
      "source": [
        "import numpy as np\n",
        "import pandas as pd\n",
        "import matplotlib.pyplot as plt\n",
        "import seaborn as sns"
      ],
      "execution_count": 0,
      "outputs": []
    },
    {
      "cell_type": "code",
      "metadata": {
        "id": "FwkP7nZIUZit",
        "colab_type": "code",
        "colab": {}
      },
      "source": [
        "data = pd.read_excel('output.xlsx',error_bad_lines=False)"
      ],
      "execution_count": 0,
      "outputs": []
    },
    {
      "cell_type": "code",
      "metadata": {
        "id": "0-LOo6fXYPNZ",
        "colab_type": "code",
        "outputId": "865b7d56-6962-4d78-c366-0e06d1150091",
        "colab": {
          "base_uri": "https://localhost:8080/",
          "height": 382
        }
      },
      "source": [
        "data.info()"
      ],
      "execution_count": 0,
      "outputs": [
        {
          "output_type": "stream",
          "text": [
            "<class 'pandas.core.frame.DataFrame'>\n",
            "RangeIndex: 17409 entries, 0 to 17408\n",
            "Data columns (total 16 columns):\n",
            "Vehicle No            17368 non-null object\n",
            "Created               17365 non-null object\n",
            "Total Distance        17365 non-null float64\n",
            "Distance Travelled    17365 non-null float64\n",
            "Remaining Distance    17365 non-null float64\n",
            "No Of Pings           17365 non-null object\n",
            "Pings Used            17365 non-null float64\n",
            "Origin                17365 non-null object\n",
            "Destination           17365 non-null object\n",
            "Start Time            17365 non-null object\n",
            "End Time              13484 non-null object\n",
            "Slot Frequency        17365 non-null object\n",
            "Tracking Status       17365 non-null object\n",
            "Driver Count          17365 non-null float64\n",
            "Companies             17365 non-null object\n",
            "Drivers               17357 non-null object\n",
            "dtypes: float64(5), object(11)\n",
            "memory usage: 2.1+ MB\n"
          ],
          "name": "stdout"
        }
      ]
    },
    {
      "cell_type": "code",
      "metadata": {
        "id": "UERVar5_VFlv",
        "colab_type": "code",
        "outputId": "15c5876e-2267-4069-dfc3-5662eb4dd152",
        "colab": {
          "base_uri": "https://localhost:8080/",
          "height": 626
        }
      },
      "source": [
        "data.head()"
      ],
      "execution_count": 0,
      "outputs": [
        {
          "output_type": "execute_result",
          "data": {
            "text/html": [
              "<div>\n",
              "<style scoped>\n",
              "    .dataframe tbody tr th:only-of-type {\n",
              "        vertical-align: middle;\n",
              "    }\n",
              "\n",
              "    .dataframe tbody tr th {\n",
              "        vertical-align: top;\n",
              "    }\n",
              "\n",
              "    .dataframe thead th {\n",
              "        text-align: right;\n",
              "    }\n",
              "</style>\n",
              "<table border=\"1\" class=\"dataframe\">\n",
              "  <thead>\n",
              "    <tr style=\"text-align: right;\">\n",
              "      <th></th>\n",
              "      <th>Vehicle No</th>\n",
              "      <th>Created</th>\n",
              "      <th>Total Distance</th>\n",
              "      <th>Distance Travelled</th>\n",
              "      <th>Remaining Distance</th>\n",
              "      <th>No Of Pings</th>\n",
              "      <th>Pings Used</th>\n",
              "      <th>Origin</th>\n",
              "      <th>Destination</th>\n",
              "      <th>Start Time</th>\n",
              "      <th>End Time</th>\n",
              "      <th>Slot Frequency</th>\n",
              "      <th>Tracking Status</th>\n",
              "      <th>Driver Count</th>\n",
              "      <th>Companies</th>\n",
              "      <th>Drivers</th>\n",
              "    </tr>\n",
              "  </thead>\n",
              "  <tbody>\n",
              "    <tr>\n",
              "      <th>0</th>\n",
              "      <td>HR73A9291</td>\n",
              "      <td>Thu Oct 31 2019 18:30:29 GMT+0000 (UTC)</td>\n",
              "      <td>2134.62</td>\n",
              "      <td>2302560.0</td>\n",
              "      <td>0.0</td>\n",
              "      <td>39</td>\n",
              "      <td>39.0</td>\n",
              "      <td>Gummidipundi/ Tamil Nadu 601201/ India</td>\n",
              "      <td>Ghaziabad/ Uttar Pradesh/ India</td>\n",
              "      <td>Thu Oct 31 2019 18:30:29 GMT+0000 (UTC)</td>\n",
              "      <td>Sun Nov 10 2019 02:19:05 GMT+0000 (UTC)</td>\n",
              "      <td>[unknown type]</td>\n",
              "      <td>Inactive</td>\n",
              "      <td>1.0</td>\n",
              "      <td>MTC Logistics</td>\n",
              "      <td>asis</td>\n",
              "    </tr>\n",
              "    <tr>\n",
              "      <th>1</th>\n",
              "      <td>HR73A3318</td>\n",
              "      <td>Thu Oct 31 2019 18:34:29 GMT+0000 (UTC)</td>\n",
              "      <td>539.70</td>\n",
              "      <td>576540.0</td>\n",
              "      <td>0.0</td>\n",
              "      <td>8</td>\n",
              "      <td>8.0</td>\n",
              "      <td>Gummidipundi/ Tamil Nadu 601201/ India</td>\n",
              "      <td>Coimbatore/ Tamil Nadu/ India</td>\n",
              "      <td>Thu Oct 31 2019 18:34:29 GMT+0000 (UTC)</td>\n",
              "      <td>Sat Nov 02 2019 17:52:45 GMT+0000 (UTC)</td>\n",
              "      <td>[unknown type]</td>\n",
              "      <td>Inactive</td>\n",
              "      <td>1.0</td>\n",
              "      <td>MTC Logistics</td>\n",
              "      <td>ARSAD</td>\n",
              "    </tr>\n",
              "    <tr>\n",
              "      <th>2</th>\n",
              "      <td>HR73A0658</td>\n",
              "      <td>Thu Oct 31 2019 18:36:35 GMT+0000 (UTC)</td>\n",
              "      <td>539.70</td>\n",
              "      <td>0.0</td>\n",
              "      <td>0.0</td>\n",
              "      <td>0</td>\n",
              "      <td>0.0</td>\n",
              "      <td>Gummidipundi/ Tamil Nadu 601201/ India</td>\n",
              "      <td>Coimbatore/ Tamil Nadu/ India</td>\n",
              "      <td>Thu Oct 31 2019 18:36:34 GMT+0000 (UTC)</td>\n",
              "      <td>Sat Nov 02 2019 17:52:42 GMT+0000 (UTC)</td>\n",
              "      <td>[unknown type]</td>\n",
              "      <td>Inactive</td>\n",
              "      <td>1.0</td>\n",
              "      <td>MTC Logistics</td>\n",
              "      <td>jafru</td>\n",
              "    </tr>\n",
              "    <tr>\n",
              "      <th>3</th>\n",
              "      <td>HR47D7760</td>\n",
              "      <td>Thu Oct 31 2019 18:57:26 GMT+0000 (UTC)</td>\n",
              "      <td>1845.07</td>\n",
              "      <td>1967290.0</td>\n",
              "      <td>0.0</td>\n",
              "      <td>55</td>\n",
              "      <td>55.0</td>\n",
              "      <td>Vallakkottai/ Tamil Nadu 631604/ India</td>\n",
              "      <td>Bol/ Gujarat/ India</td>\n",
              "      <td>Thu Oct 31 2019 18:57:25 GMT+0000 (UTC)</td>\n",
              "      <td>Fri Nov 08 2019 05:22:26 GMT+0000 (UTC)</td>\n",
              "      <td>[unknown type]</td>\n",
              "      <td>Inactive</td>\n",
              "      <td>1.0</td>\n",
              "      <td>WHITE DATA SYSTEMS INDIA PRIVATE LIMITED/TVS C...</td>\n",
              "      <td>MOHAMMED KASAM</td>\n",
              "    </tr>\n",
              "    <tr>\n",
              "      <th>4</th>\n",
              "      <td>TN54K5834</td>\n",
              "      <td>Thu Oct 31 2019 18:58:23 GMT+0000 (UTC)</td>\n",
              "      <td>1845.07</td>\n",
              "      <td>2165870.0</td>\n",
              "      <td>0.0</td>\n",
              "      <td>75</td>\n",
              "      <td>75.0</td>\n",
              "      <td>Vallakkottai/ Tamil Nadu 631604/ India</td>\n",
              "      <td>Bol/ Gujarat/ India</td>\n",
              "      <td>Thu Oct 31 2019 18:58:22 GMT+0000 (UTC)</td>\n",
              "      <td>Fri Nov 08 2019 05:22:22 GMT+0000 (UTC)</td>\n",
              "      <td>[unknown type]</td>\n",
              "      <td>Inactive</td>\n",
              "      <td>1.0</td>\n",
              "      <td>WHITE DATA SYSTEMS INDIA PRIVATE LIMITED/TVS C...</td>\n",
              "      <td>MURUGAN</td>\n",
              "    </tr>\n",
              "  </tbody>\n",
              "</table>\n",
              "</div>"
            ],
            "text/plain": [
              "  Vehicle No  ...         Drivers\n",
              "0  HR73A9291  ...            asis\n",
              "1  HR73A3318  ...           ARSAD\n",
              "2  HR73A0658  ...           jafru\n",
              "3  HR47D7760  ...  MOHAMMED KASAM\n",
              "4  TN54K5834  ...         MURUGAN\n",
              "\n",
              "[5 rows x 16 columns]"
            ]
          },
          "metadata": {
            "tags": []
          },
          "execution_count": 64
        }
      ]
    },
    {
      "cell_type": "code",
      "metadata": {
        "id": "12VlHZL1dDDU",
        "colab_type": "code",
        "outputId": "452a825e-82b6-47f3-b958-e327e48333de",
        "colab": {
          "base_uri": "https://localhost:8080/",
          "height": 1000
        }
      },
      "source": [
        "sns.pairplot(data.dropna())"
      ],
      "execution_count": 0,
      "outputs": [
        {
          "output_type": "execute_result",
          "data": {
            "text/plain": [
              "<seaborn.axisgrid.PairGrid at 0x7f177686c7b8>"
            ]
          },
          "metadata": {
            "tags": []
          },
          "execution_count": 65
        },
        {
          "output_type": "display_data",
          "data": {
            "image/png": "[encoded data removed]",
            "text/plain": [
              "<Figure size 1080x1080 with 42 Axes>"
            ]
          },
          "metadata": {
            "tags": []
          }
        }
      ]
    },
    {
      "cell_type": "markdown",
      "metadata": {
        "id": "5IXRLO6naeWk",
        "colab_type": "text"
      },
      "source": [
        "**Total Vehicles in** **Two** **Months** --- **12732**"
      ]
    },
    {
      "cell_type": "code",
      "metadata": {
        "id": "FZHz1RnCZOIQ",
        "colab_type": "code",
        "outputId": "0e755ac5-41c2-4f06-943a-d3155dc5eb12",
        "colab": {
          "base_uri": "https://localhost:8080/",
          "height": 34
        }
      },
      "source": [
        "data['Vehicle No'].nunique()"
      ],
      "execution_count": 0,
      "outputs": [
        {
          "output_type": "execute_result",
          "data": {
            "text/plain": [
              "12732"
            ]
          },
          "metadata": {
            "tags": []
          },
          "execution_count": 66
        }
      ]
    },
    {
      "cell_type": "code",
      "metadata": {
        "id": "8emvKdK2aVGC",
        "colab_type": "code",
        "colab": {}
      },
      "source": [
        "data['State'] = data['Vehicle No']"
      ],
      "execution_count": 0,
      "outputs": []
    },
    {
      "cell_type": "code",
      "metadata": {
        "id": "cgb5Q9PtdMEH",
        "colab_type": "code",
        "colab": {}
      },
      "source": [
        "def getState(vehicleNumber):\n",
        "  return vehicleNumber[:2]"
      ],
      "execution_count": 0,
      "outputs": []
    },
    {
      "cell_type": "markdown",
      "metadata": {
        "id": "FCw90A0ii2mA",
        "colab_type": "text"
      },
      "source": [
        "Checking With Null Values"
      ]
    },
    {
      "cell_type": "code",
      "metadata": {
        "id": "Hle8gEJ7hBVy",
        "colab_type": "code",
        "outputId": "7f8f00cc-d943-4b92-817e-36b5c9efc2ac",
        "colab": {
          "base_uri": "https://localhost:8080/",
          "height": 330
        }
      },
      "source": [
        "data.isna().sum()"
      ],
      "execution_count": 0,
      "outputs": [
        {
          "output_type": "execute_result",
          "data": {
            "text/plain": [
              "Vehicle No              41\n",
              "Created                 44\n",
              "Total Distance          44\n",
              "Distance Travelled      44\n",
              "Remaining Distance      44\n",
              "No Of Pings             44\n",
              "Pings Used              44\n",
              "Origin                  44\n",
              "Destination             44\n",
              "Start Time              44\n",
              "End Time              3925\n",
              "Slot Frequency          44\n",
              "Tracking Status         44\n",
              "Driver Count            44\n",
              "Companies               44\n",
              "Drivers                 52\n",
              "State                   41\n",
              "dtype: int64"
            ]
          },
          "metadata": {
            "tags": []
          },
          "execution_count": 69
        }
      ]
    },
    {
      "cell_type": "code",
      "metadata": {
        "id": "EXc5Mzgghb97",
        "colab_type": "code",
        "colab": {}
      },
      "source": [
        "data.dropna(how='all',inplace=True)\n",
        "#if all rows are empty are na delete row"
      ],
      "execution_count": 0,
      "outputs": []
    },
    {
      "cell_type": "markdown",
      "metadata": {
        "id": "SuEXneEYjV7U",
        "colab_type": "text"
      },
      "source": [
        "# **Deleted the empty rows and data Dealing With Null Values**"
      ]
    },
    {
      "cell_type": "code",
      "metadata": {
        "id": "Ux4Kl68xjMSb",
        "colab_type": "code",
        "outputId": "59e3ebdd-63b7-4220-bcba-26e983134dc1",
        "colab": {
          "base_uri": "https://localhost:8080/",
          "height": 330
        }
      },
      "source": [
        "data.isna().sum()"
      ],
      "execution_count": 0,
      "outputs": [
        {
          "output_type": "execute_result",
          "data": {
            "text/plain": [
              "Vehicle No               0\n",
              "Created                  3\n",
              "Total Distance           3\n",
              "Distance Travelled       3\n",
              "Remaining Distance       3\n",
              "No Of Pings              3\n",
              "Pings Used               3\n",
              "Origin                   3\n",
              "Destination              3\n",
              "Start Time               3\n",
              "End Time              3884\n",
              "Slot Frequency           3\n",
              "Tracking Status          3\n",
              "Driver Count             3\n",
              "Companies                3\n",
              "Drivers                 11\n",
              "State                    0\n",
              "dtype: int64"
            ]
          },
          "metadata": {
            "tags": []
          },
          "execution_count": 71
        }
      ]
    },
    {
      "cell_type": "code",
      "metadata": {
        "id": "e52b_xc0aJ5A",
        "colab_type": "code",
        "outputId": "646a16c6-8d5d-4adc-a4f0-744c7088a4b4",
        "colab": {
          "base_uri": "https://localhost:8080/",
          "height": 399
        }
      },
      "source": [
        "data['Created'] = data['Created'].fillna(method='ffill')\n",
        "data['Pings Used'] = data['Pings Used'].fillna(data['Pings Used'].mode())\n",
        "data.dropna(axis=0,subset=['Origin','Drivers'],inplace = True)\n",
        "#sns.scatterplot(data['Total Distance'],data['Distance Travelled'])\n",
        "data['End Time'] = data['End Time'].fillna(\"ETN\")\n",
        "data.info()"
      ],
      "execution_count": 0,
      "outputs": [
        {
          "output_type": "stream",
          "text": [
            "<class 'pandas.core.frame.DataFrame'>\n",
            "Int64Index: 17357 entries, 0 to 17408\n",
            "Data columns (total 17 columns):\n",
            "Vehicle No            17357 non-null object\n",
            "Created               17357 non-null object\n",
            "Total Distance        17357 non-null float64\n",
            "Distance Travelled    17357 non-null float64\n",
            "Remaining Distance    17357 non-null float64\n",
            "No Of Pings           17357 non-null object\n",
            "Pings Used            17357 non-null float64\n",
            "Origin                17357 non-null object\n",
            "Destination           17357 non-null object\n",
            "Start Time            17357 non-null object\n",
            "End Time              17357 non-null object\n",
            "Slot Frequency        17357 non-null object\n",
            "Tracking Status       17357 non-null object\n",
            "Driver Count          17357 non-null float64\n",
            "Companies             17357 non-null object\n",
            "Drivers               17357 non-null object\n",
            "State                 17357 non-null object\n",
            "dtypes: float64(5), object(12)\n",
            "memory usage: 2.4+ MB\n"
          ],
          "name": "stdout"
        }
      ]
    },
    {
      "cell_type": "markdown",
      "metadata": {
        "id": "T39B9_E6anAB",
        "colab_type": "text"
      },
      "source": [
        "**Get State Wise Vehicles**"
      ]
    },
    {
      "cell_type": "code",
      "metadata": {
        "id": "q7G8OAFLjP0v",
        "colab_type": "code",
        "outputId": "5d2c414c-d8c5-4733-e1e5-726d36c0b752",
        "colab": {
          "base_uri": "https://localhost:8080/",
          "height": 34
        }
      },
      "source": [
        "data['State'] = data['Vehicle No'].apply(getState)\n",
        "data['State'].nunique()"
      ],
      "execution_count": 0,
      "outputs": [
        {
          "output_type": "execute_result",
          "data": {
            "text/plain": [
              "58"
            ]
          },
          "metadata": {
            "tags": []
          },
          "execution_count": 73
        }
      ]
    },
    {
      "cell_type": "code",
      "metadata": {
        "id": "Bj4oq4scjjSA",
        "colab_type": "code",
        "colab": {}
      },
      "source": [
        "data['State'] = data['State'].apply(lambda l : l.upper())"
      ],
      "execution_count": 0,
      "outputs": []
    },
    {
      "cell_type": "code",
      "metadata": {
        "id": "2psEP_8uYtrj",
        "colab_type": "code",
        "colab": {}
      },
      "source": [
        ""
      ],
      "execution_count": 0,
      "outputs": []
    },
    {
      "cell_type": "code",
      "metadata": {
        "id": "NCJMMLQmjxMX",
        "colab_type": "code",
        "outputId": "1e388666-1d66-48f2-9af8-799f746813d4",
        "colab": {
          "base_uri": "https://localhost:8080/",
          "height": 34
        }
      },
      "source": [
        "data['State'].nunique()"
      ],
      "execution_count": 0,
      "outputs": [
        {
          "output_type": "execute_result",
          "data": {
            "text/plain": [
              "53"
            ]
          },
          "metadata": {
            "tags": []
          },
          "execution_count": 75
        }
      ]
    },
    {
      "cell_type": "code",
      "metadata": {
        "id": "W7nXZDju7arf",
        "colab_type": "code",
        "colab": {}
      },
      "source": [
        "data['State'].value_counts().to_excel(\"StateWise.xlsx\")"
      ],
      "execution_count": 0,
      "outputs": []
    },
    {
      "cell_type": "markdown",
      "metadata": {
        "id": "t4TJKt-Rklrq",
        "colab_type": "text"
      },
      "source": [
        "**we are having vehicles from 53 unique regions registered vehicles**\n",
        "\n"
      ]
    },
    {
      "cell_type": "markdown",
      "metadata": {
        "id": "5qpVgjnbqYEb",
        "colab_type": "text"
      },
      "source": [
        "# Dealing With Distance"
      ]
    },
    {
      "cell_type": "code",
      "metadata": {
        "id": "utxToN8OkF_B",
        "colab_type": "code",
        "outputId": "4e8c3740-40c1-4a8b-9962-c1663c996b67",
        "colab": {
          "base_uri": "https://localhost:8080/",
          "height": 399
        }
      },
      "source": [
        "data.info()"
      ],
      "execution_count": 0,
      "outputs": [
        {
          "output_type": "stream",
          "text": [
            "<class 'pandas.core.frame.DataFrame'>\n",
            "Int64Index: 17357 entries, 0 to 17408\n",
            "Data columns (total 17 columns):\n",
            "Vehicle No            17357 non-null object\n",
            "Created               17357 non-null object\n",
            "Total Distance        17357 non-null float64\n",
            "Distance Travelled    17357 non-null float64\n",
            "Remaining Distance    17357 non-null float64\n",
            "No Of Pings           17357 non-null object\n",
            "Pings Used            17357 non-null float64\n",
            "Origin                17357 non-null object\n",
            "Destination           17357 non-null object\n",
            "Start Time            17357 non-null object\n",
            "End Time              17357 non-null object\n",
            "Slot Frequency        17357 non-null object\n",
            "Tracking Status       17357 non-null object\n",
            "Driver Count          17357 non-null float64\n",
            "Companies             17357 non-null object\n",
            "Drivers               17357 non-null object\n",
            "State                 17357 non-null object\n",
            "dtypes: float64(5), object(12)\n",
            "memory usage: 2.4+ MB\n"
          ],
          "name": "stdout"
        }
      ]
    },
    {
      "cell_type": "code",
      "metadata": {
        "id": "Zn_2tteptvEX",
        "colab_type": "code",
        "colab": {}
      },
      "source": [
        "data['Distance Travelled'] = data['Distance Travelled'].apply(lambda l : l/1000)\n",
        "#convert distance to KM"
      ],
      "execution_count": 0,
      "outputs": []
    },
    {
      "cell_type": "code",
      "metadata": {
        "id": "_xaCUd26rDAW",
        "colab_type": "code",
        "outputId": "615af721-f285-4814-f29a-7bda06e28ad5",
        "colab": {
          "base_uri": "https://localhost:8080/",
          "height": 395
        }
      },
      "source": [
        "sns.set(style='whitegrid', palette=\"deep\", font_scale=1.1, rc={\"figure.figsize\": [8, 5]})\n",
        "sns.distplot(data['Distance Travelled'],kde=False,bins = 50,hist_kws={'alpha':1}).set(xlim=(0,7000),xlabel = 'Distance Travelled in Two Months',ylabel = 'Count')"
      ],
      "execution_count": 0,
      "outputs": [
        {
          "output_type": "execute_result",
          "data": {
            "text/plain": [
              "[Text(0, 0.5, 'Count'),\n",
              " (0, 7000),\n",
              " Text(0.5, 0, 'Distance Travelled in Two Months')]"
            ]
          },
          "metadata": {
            "tags": []
          },
          "execution_count": 78
        },
        {
          "output_type": "display_data",
          "data": {
            "image/png": "[encoded data removed]",
            "text/plain": [
              "<Figure size 576x360 with 1 Axes>"
            ]
          },
          "metadata": {
            "tags": []
          }
        }
      ]
    },
    {
      "cell_type": "markdown",
      "metadata": {
        "id": "nW2sQaauwKS7",
        "colab_type": "text"
      },
      "source": [
        "**Less Number of trip are having high(>3000km) Distance travelled**"
      ]
    },
    {
      "cell_type": "markdown",
      "metadata": {
        "id": "NbV6GXs6xr-0",
        "colab_type": "text"
      },
      "source": [
        "# Dealing With Total Distance"
      ]
    },
    {
      "cell_type": "code",
      "metadata": {
        "id": "TgYdsE_UyBAj",
        "colab_type": "code",
        "outputId": "8a959900-3f3c-4e62-dbfe-be8804f82daa",
        "colab": {
          "base_uri": "https://localhost:8080/",
          "height": 394
        }
      },
      "source": [
        "sns.set(style='whitegrid', palette=\"deep\", font_scale=1.1, rc={\"figure.figsize\": [8, 5]})\n",
        "sns.distplot(data['Total Distance'],kde=False,bins = \n",
        "50,hist_kws={'alpha':1}).set(xlim=(0,5000),xlabel = 'Total Distance in Two Months',ylabel = 'Count')"
      ],
      "execution_count": 0,
      "outputs": [
        {
          "output_type": "execute_result",
          "data": {
            "text/plain": [
              "[Text(0, 0.5, 'Count'),\n",
              " (0, 5000),\n",
              " Text(0.5, 0, 'Total Distance in Two Months')]"
            ]
          },
          "metadata": {
            "tags": []
          },
          "execution_count": 79
        },
        {
          "output_type": "display_data",
          "data": {
            "image/png": "[encoded data removed]",
            "text/plain": [
              "<Figure size 576x360 with 1 Axes>"
            ]
          },
          "metadata": {
            "tags": []
          }
        }
      ]
    },
    {
      "cell_type": "markdown",
      "metadata": {
        "id": "dt-3sq5WypZP",
        "colab_type": "text"
      },
      "source": [
        "**Total Distamce is in the range of 0 to 3000**\n",
        "\n",
        "---\n",
        "\n"
      ]
    },
    {
      "cell_type": "code",
      "metadata": {
        "id": "vSoi2WcDyRmJ",
        "colab_type": "code",
        "outputId": "fc3e5c75-3268-44ee-fccc-6df786684721",
        "colab": {
          "base_uri": "https://localhost:8080/",
          "height": 359
        }
      },
      "source": [
        "sns.distplot(data['Total Distance'])"
      ],
      "execution_count": 0,
      "outputs": [
        {
          "output_type": "execute_result",
          "data": {
            "text/plain": [
              "<matplotlib.axes._subplots.AxesSubplot at 0x7f176e28b9b0>"
            ]
          },
          "metadata": {
            "tags": []
          },
          "execution_count": 80
        },
        {
          "output_type": "display_data",
          "data": {
            "image/png": "[encoded data removed]",
            "text/plain": [
              "<Figure size 576x360 with 1 Axes>"
            ]
          },
          "metadata": {
            "tags": []
          }
        }
      ]
    },
    {
      "cell_type": "markdown",
      "metadata": {
        "id": "xAwF4z8YzdBI",
        "colab_type": "text"
      },
      "source": [
        "# Handling with Number of Pings "
      ]
    },
    {
      "cell_type": "code",
      "metadata": {
        "id": "qwJJtFsfzHLc",
        "colab_type": "code",
        "outputId": "ca0d2ee6-91a9-439d-e1b0-5db95a88b64a",
        "colab": {
          "base_uri": "https://localhost:8080/",
          "height": 34
        }
      },
      "source": [
        "data['No Of Pings'].nunique()"
      ],
      "execution_count": 0,
      "outputs": [
        {
          "output_type": "execute_result",
          "data": {
            "text/plain": [
              "305"
            ]
          },
          "metadata": {
            "tags": []
          },
          "execution_count": 81
        }
      ]
    },
    {
      "cell_type": "code",
      "metadata": {
        "id": "3q5fRjgg0cLD",
        "colab_type": "code",
        "outputId": "9c75f731-02e4-4bc3-e37c-8c7a8b2cb92d",
        "colab": {
          "base_uri": "https://localhost:8080/",
          "height": 359
        }
      },
      "source": [
        "sns.kdeplot(data['No Of Pings'],shade=True)\n",
        "plt.xlabel('No Of Pings')\n",
        "plt.ylabel('Probabblity Density Function')"
      ],
      "execution_count": 0,
      "outputs": [
        {
          "output_type": "execute_result",
          "data": {
            "text/plain": [
              "Text(0, 0.5, 'Probabblity Density Function')"
            ]
          },
          "metadata": {
            "tags": []
          },
          "execution_count": 82
        },
        {
          "output_type": "display_data",
          "data": {
            "image/png": "[encoded data removed]",
            "text/plain": [
              "<Figure size 576x360 with 1 Axes>"
            ]
          },
          "metadata": {
            "tags": []
          }
        }
      ]
    },
    {
      "cell_type": "code",
      "metadata": {
        "id": "XVxxqssc0igP",
        "colab_type": "code",
        "outputId": "296f83bb-337d-43f7-a046-60ce1604144e",
        "colab": {
          "base_uri": "https://localhost:8080/",
          "height": 414
        }
      },
      "source": [
        "sns.set(style='whitegrid', palette=\"deep\", font_scale=1.1, rc={\"figure.figsize\": [8, 6]})\n",
        "sns.kdeplot(data['Total Distance'],data['Distance Travelled'])\n"
      ],
      "execution_count": 0,
      "outputs": [
        {
          "output_type": "execute_result",
          "data": {
            "text/plain": [
              "<matplotlib.axes._subplots.AxesSubplot at 0x7f176e746d30>"
            ]
          },
          "metadata": {
            "tags": []
          },
          "execution_count": 83
        },
        {
          "output_type": "display_data",
          "data": {
            "image/png": "[encoded data removed]",
            "text/plain": [
              "<Figure size 576x432 with 1 Axes>"
            ]
          },
          "metadata": {
            "tags": []
          }
        }
      ]
    },
    {
      "cell_type": "code",
      "metadata": {
        "id": "1CZk6wvj6aQI",
        "colab_type": "code",
        "outputId": "89f9e26d-f61b-4930-eb6d-3ed7ee614f9a",
        "colab": {
          "base_uri": "https://localhost:8080/",
          "height": 399
        }
      },
      "source": [
        "data.info()"
      ],
      "execution_count": 0,
      "outputs": [
        {
          "output_type": "stream",
          "text": [
            "<class 'pandas.core.frame.DataFrame'>\n",
            "Int64Index: 17357 entries, 0 to 17408\n",
            "Data columns (total 17 columns):\n",
            "Vehicle No            17357 non-null object\n",
            "Created               17357 non-null object\n",
            "Total Distance        17357 non-null float64\n",
            "Distance Travelled    17357 non-null float64\n",
            "Remaining Distance    17357 non-null float64\n",
            "No Of Pings           17357 non-null object\n",
            "Pings Used            17357 non-null float64\n",
            "Origin                17357 non-null object\n",
            "Destination           17357 non-null object\n",
            "Start Time            17357 non-null object\n",
            "End Time              17357 non-null object\n",
            "Slot Frequency        17357 non-null object\n",
            "Tracking Status       17357 non-null object\n",
            "Driver Count          17357 non-null float64\n",
            "Companies             17357 non-null object\n",
            "Drivers               17357 non-null object\n",
            "State                 17357 non-null object\n",
            "dtypes: float64(5), object(12)\n",
            "memory usage: 2.4+ MB\n"
          ],
          "name": "stdout"
        }
      ]
    },
    {
      "cell_type": "markdown",
      "metadata": {
        "id": "UaYi0Bt9I4EN",
        "colab_type": "text"
      },
      "source": [
        "**The diffrence between Distance Travelled and Total Distance is some what less.**"
      ]
    },
    {
      "cell_type": "code",
      "metadata": {
        "id": "YjpK8werJpbe",
        "colab_type": "code",
        "colab": {}
      },
      "source": [
        "def computeDiff(total,traveled):\n",
        "  return total-traveled"
      ],
      "execution_count": 0,
      "outputs": []
    },
    {
      "cell_type": "code",
      "metadata": {
        "id": "wiXhwTRPIt87",
        "colab_type": "code",
        "colab": {}
      },
      "source": [
        "data['diff'] = data['Distance Travelled']-data['Total Distance']"
      ],
      "execution_count": 0,
      "outputs": []
    },
    {
      "cell_type": "code",
      "metadata": {
        "id": "Ryxu5SKq9_ui",
        "colab_type": "code",
        "outputId": "f003b826-1079-4e0c-a3b2-52338f9d3858",
        "colab": {
          "base_uri": "https://localhost:8080/",
          "height": 394
        }
      },
      "source": [
        "sns.set(style='whitegrid', palette=\"deep\", font_scale=1.1, rc={\"figure.figsize\": [8, 5]})\n",
        "sns.distplot(data['diff'],kde=False,bins = \n",
        "60,hist_kws={'alpha':1}).set(xlim= (-3000,3000),xlabel = 'Difference Between Distance Travelled and Total Distance',ylabel = 'Count')"
      ],
      "execution_count": 0,
      "outputs": [
        {
          "output_type": "execute_result",
          "data": {
            "text/plain": [
              "[Text(0, 0.5, 'Count'),\n",
              " (-3000, 3000),\n",
              " Text(0.5, 0, 'Difference Between Distance Travelled and Total Distance')]"
            ]
          },
          "metadata": {
            "tags": []
          },
          "execution_count": 87
        },
        {
          "output_type": "display_data",
          "data": {
            "image/png": "[encoded data removed]",
            "text/plain": [
              "<Figure size 576x360 with 1 Axes>"
            ]
          },
          "metadata": {
            "tags": []
          }
        }
      ]
    },
    {
      "cell_type": "code",
      "metadata": {
        "id": "o4fgDDJTJeiF",
        "colab_type": "code",
        "outputId": "93561ffd-660c-437c-db22-6539cff3493b",
        "colab": {
          "base_uri": "https://localhost:8080/",
          "height": 34
        }
      },
      "source": [
        "data['Companies'].nunique()"
      ],
      "execution_count": 0,
      "outputs": [
        {
          "output_type": "execute_result",
          "data": {
            "text/plain": [
              "149"
            ]
          },
          "metadata": {
            "tags": []
          },
          "execution_count": 88
        }
      ]
    },
    {
      "cell_type": "code",
      "metadata": {
        "id": "4I12Za3pNKkK",
        "colab_type": "code",
        "colab": {}
      },
      "source": [
        ""
      ],
      "execution_count": 0,
      "outputs": []
    },
    {
      "cell_type": "code",
      "metadata": {
        "id": "AFVA8fQgNX1i",
        "colab_type": "code",
        "outputId": "18fb715d-f38c-4a44-cad0-4d3ad17cb5ef",
        "colab": {
          "base_uri": "https://localhost:8080/",
          "height": 225
        }
      },
      "source": [
        "data['Companies'].value_counts()"
      ],
      "execution_count": 0,
      "outputs": [
        {
          "output_type": "execute_result",
          "data": {
            "text/plain": [
              "WHITE DATA SYSTEMS INDIA PRIVATE LIMITED/TVS Control Tower    4085\n",
              "V TRANS INDIA LIMITED/MUM RO                                  1686\n",
              "WHITE DATA SYSTEMS INDIA PRIVATE LIMITED/L&T _CT              1523\n",
              "WHITE DATA SYSTEMS INDIA PRIVATE LIMITED                      1333\n",
              "V TRANS INDIA LIMITED/SOUTH GUJARAT                           1017\n",
              "                                                              ... \n",
              "ARC LIMITED/YLNK                                                 1\n",
              "CARGO CITY CHENNAI/Rajesh Dhal                                   1\n",
              "Future Supply Chain Solutions Limited                            1\n",
              "CARGO CITY CHENNAI/Mumbai                                        1\n",
              "Everest Industries Ltd/Lakhmapur Plant                           1\n",
              "Name: Companies, Length: 149, dtype: int64"
            ]
          },
          "metadata": {
            "tags": []
          },
          "execution_count": 89
        }
      ]
    },
    {
      "cell_type": "code",
      "metadata": {
        "id": "TkdcUt4FSJAz",
        "colab_type": "code",
        "colab": {}
      },
      "source": [
        "def countLessThan5(val):\n",
        "    c = 0\n",
        "    for i in data['Companies']:\n",
        "        if(i==val):\n",
        "            c = c+1\n",
        "    if(c<5):\n",
        "        return val"
      ],
      "execution_count": 0,
      "outputs": []
    },
    {
      "cell_type": "code",
      "metadata": {
        "id": "VksbiPFzSHWd",
        "colab_type": "code",
        "colab": {}
      },
      "source": [
        "data['LessActiveCompanies'] = data['Companies'].apply(countLessThan5)"
      ],
      "execution_count": 0,
      "outputs": []
    },
    {
      "cell_type": "markdown",
      "metadata": {
        "id": "wJ3A22eSSVZx",
        "colab_type": "text"
      },
      "source": [
        "**Companies with less active by creating trips less than 5**"
      ]
    },
    {
      "cell_type": "code",
      "metadata": {
        "id": "CM9fXxDdSUO4",
        "colab_type": "code",
        "colab": {}
      },
      "source": [
        "data['LessActiveCompanies'].value_counts().to_excel('companies.xlsx')"
      ],
      "execution_count": 0,
      "outputs": []
    },
    {
      "cell_type": "code",
      "metadata": {
        "id": "XGCs6KoZNZk4",
        "colab_type": "code",
        "colab": {}
      },
      "source": [
        "def count(val):\n",
        "    c = 0\n",
        "    for i in data['Companies']:\n",
        "        if(i==val):\n",
        "            c = c+1\n",
        "    if(c>50):\n",
        "        return val\n",
        "    else:\n",
        "        return 'RARE'"
      ],
      "execution_count": 0,
      "outputs": []
    },
    {
      "cell_type": "code",
      "metadata": {
        "id": "I-OdUItIOzVY",
        "colab_type": "code",
        "colab": {}
      },
      "source": [
        "data['Companies'] = data['Companies'].apply(count)"
      ],
      "execution_count": 0,
      "outputs": []
    },
    {
      "cell_type": "code",
      "metadata": {
        "id": "wxO5yiscO8RP",
        "colab_type": "code",
        "outputId": "6dd30d06-9e52-4d54-8d8e-64950d25d0a5",
        "colab": {
          "base_uri": "https://localhost:8080/",
          "height": 34
        }
      },
      "source": [
        "data['Companies'].nunique()"
      ],
      "execution_count": 0,
      "outputs": [
        {
          "output_type": "execute_result",
          "data": {
            "text/plain": [
              "39"
            ]
          },
          "metadata": {
            "tags": []
          },
          "execution_count": 95
        }
      ]
    },
    {
      "cell_type": "markdown",
      "metadata": {
        "id": "B6WEb_1kP4Rw",
        "colab_type": "text"
      },
      "source": [
        "**Organization wise trip count in two months**"
      ]
    },
    {
      "cell_type": "code",
      "metadata": {
        "id": "vMVa32X0PCeB",
        "colab_type": "code",
        "outputId": "5ab0c437-ff37-4800-dc00-d4426abc46b6",
        "colab": {
          "base_uri": "https://localhost:8080/",
          "height": 712
        }
      },
      "source": [
        "data['Companies'].value_counts()"
      ],
      "execution_count": 0,
      "outputs": [
        {
          "output_type": "execute_result",
          "data": {
            "text/plain": [
              "WHITE DATA SYSTEMS INDIA PRIVATE LIMITED/TVS Control Tower    4085\n",
              "V TRANS INDIA LIMITED/MUM RO                                  1686\n",
              "WHITE DATA SYSTEMS INDIA PRIVATE LIMITED/L&T _CT              1523\n",
              "WHITE DATA SYSTEMS INDIA PRIVATE LIMITED                      1333\n",
              "RARE                                                          1175\n",
              "V TRANS INDIA LIMITED/SOUTH GUJARAT                           1017\n",
              "V TRANS INDIA LIMITED/KARNATAKA                                674\n",
              "V TRANS INDIA LIMITED/PUNE                                     607\n",
              "V TRANS INDIA LIMITED/NORTH                                    493\n",
              "Alps Logistics/chennai                                         395\n",
              "Logistics Plus India Pvt Ltd/MTC                               395\n",
              "South Eastern Roadways Limited                                 352\n",
              "V TRANS INDIA LIMITED/ANDHRA                                   304\n",
              "V TRANS INDIA LIMITED/CHENNAI                                  271\n",
              "Kuehne Nagel                                                   263\n",
              "V TRANS INDIA LIMITED/KEY ACCOUNT H O                          239\n",
              "V TRANS INDIA LIMITED/AHMEDABAD                                195\n",
              "V TRANS INDIA LIMITED/COIMBATORE                               195\n",
              "TRANSPORT CORPORATION OF INDIA LIMITED/DBP                     183\n",
              "TRANSPORT CORPORATION OF INDIA LIMITED/PABB                    182\n",
              "Logistics Plus India Pvt Ltd/GLPC                              179\n",
              "E-FLEET SYSTEMS PRIVATE LIMITED/Hind Carriers                  168\n",
              "Pilania Transport/Kolkatta                                     149\n",
              "V TRANS INDIA LIMITED/NAGPUR                                   112\n",
              "Alps Logistics/INDORE                                          105\n",
              "Maxwell Packers and Movers/HYDERABAD                           103\n",
              "TRANSPORT CORPORATION OF INDIA LIMITED/MYS                     103\n",
              "CEVA LOGISTICS  INDIA PRIVATE LIMITED/Alstom Bangalore          97\n",
              "UCI LOGISTICS SOLUTIONS PRIVATE LIMITED                         95\n",
              "Everest Industries Ltd/Kymore Plant                             93\n",
              "V TRANS INDIA LIMITED/BARODA                                    82\n",
              "Everest Industries Ltd/Podanur Works                            74\n",
              "TRANSPORT CORPORATION OF INDIA LIMITED/PNYA                     69\n",
              "Everest Industries Ltd/Bangalore                                66\n",
              "V TRANS INDIA LIMITED/RAJKOT                                    62\n",
              "TRANSPORT CORPORATION OF INDIA LIMITED/KBGD                     61\n",
              "Everest Industries Ltd/Dharmapuri                               60\n",
              "Kuehne Nagel/PUNE ERICSSON                                      56\n",
              "WHITE DATA SYSTEMS INDIA PRIVATE LIMITED/KONE                   56\n",
              "Name: Companies, dtype: int64"
            ]
          },
          "metadata": {
            "tags": []
          },
          "execution_count": 96
        }
      ]
    },
    {
      "cell_type": "markdown",
      "metadata": {
        "id": "P-J_UIfKQltq",
        "colab_type": "text"
      },
      "source": [
        "**Companies which are more active in two months**"
      ]
    },
    {
      "cell_type": "code",
      "metadata": {
        "id": "ovh5AEE9QlJH",
        "colab_type": "code",
        "colab": {}
      },
      "source": [
        "def MoreActiveCompanies(val):\n",
        "    c = 0\n",
        "    for i in data['Companies']:\n",
        "        if(i==val):\n",
        "            c = c+1\n",
        "    if(c>1000):\n",
        "        return val"
      ],
      "execution_count": 0,
      "outputs": []
    },
    {
      "cell_type": "code",
      "metadata": {
        "id": "HI55JVoIPIUF",
        "colab_type": "code",
        "colab": {}
      },
      "source": [
        "data['MoreActiveCompanies'] = data['Companies'].apply(MoreActiveCompanies)"
      ],
      "execution_count": 0,
      "outputs": []
    },
    {
      "cell_type": "code",
      "metadata": {
        "id": "lE5AqsGWRROh",
        "colab_type": "code",
        "outputId": "f9859ca4-15cc-47d2-875a-2e289c81420f",
        "colab": {
          "base_uri": "https://localhost:8080/",
          "height": 139
        }
      },
      "source": [
        "data['MoreActiveCompanies'].value_counts()"
      ],
      "execution_count": 0,
      "outputs": [
        {
          "output_type": "execute_result",
          "data": {
            "text/plain": [
              "WHITE DATA SYSTEMS INDIA PRIVATE LIMITED/TVS Control Tower    4085\n",
              "V TRANS INDIA LIMITED/MUM RO                                  1686\n",
              "WHITE DATA SYSTEMS INDIA PRIVATE LIMITED/L&T _CT              1523\n",
              "WHITE DATA SYSTEMS INDIA PRIVATE LIMITED                      1333\n",
              "RARE                                                          1175\n",
              "V TRANS INDIA LIMITED/SOUTH GUJARAT                           1017\n",
              "Name: MoreActiveCompanies, dtype: int64"
            ]
          },
          "metadata": {
            "tags": []
          },
          "execution_count": 99
        }
      ]
    },
    {
      "cell_type": "code",
      "metadata": {
        "id": "7ez1uLAIRJPa",
        "colab_type": "code",
        "outputId": "1f183221-3bd6-46d1-ebfc-18fe8764c894",
        "colab": {
          "base_uri": "https://localhost:8080/",
          "height": 451
        }
      },
      "source": [
        "data.info()"
      ],
      "execution_count": 0,
      "outputs": [
        {
          "output_type": "stream",
          "text": [
            "<class 'pandas.core.frame.DataFrame'>\n",
            "Int64Index: 17357 entries, 0 to 17408\n",
            "Data columns (total 20 columns):\n",
            "Vehicle No             17357 non-null object\n",
            "Created                17357 non-null object\n",
            "Total Distance         17357 non-null float64\n",
            "Distance Travelled     17357 non-null float64\n",
            "Remaining Distance     17357 non-null float64\n",
            "No Of Pings            17357 non-null object\n",
            "Pings Used             17357 non-null float64\n",
            "Origin                 17357 non-null object\n",
            "Destination            17357 non-null object\n",
            "Start Time             17357 non-null object\n",
            "End Time               17357 non-null object\n",
            "Slot Frequency         17357 non-null object\n",
            "Tracking Status        17357 non-null object\n",
            "Driver Count           17357 non-null float64\n",
            "Companies              17357 non-null object\n",
            "Drivers                17357 non-null object\n",
            "State                  17357 non-null object\n",
            "diff                   17357 non-null float64\n",
            "LessActiveCompanies    85 non-null object\n",
            "MoreActiveCompanies    10819 non-null object\n",
            "dtypes: float64(6), object(14)\n",
            "memory usage: 2.8+ MB\n"
          ],
          "name": "stdout"
        }
      ]
    },
    {
      "cell_type": "code",
      "metadata": {
        "id": "KXGaPGiRU2xb",
        "colab_type": "code",
        "outputId": "f559555a-805b-4e2f-bdb1-169a1135c906",
        "colab": {
          "base_uri": "https://localhost:8080/",
          "height": 34
        }
      },
      "source": [
        "data['Slot Frequency'].unique()"
      ],
      "execution_count": 0,
      "outputs": [
        {
          "output_type": "execute_result",
          "data": {
            "text/plain": [
              "array(['[unknown type]', False, True], dtype=object)"
            ]
          },
          "metadata": {
            "tags": []
          },
          "execution_count": 101
        }
      ]
    },
    {
      "cell_type": "markdown",
      "metadata": {
        "id": "Yo9mnyVaujmu",
        "colab_type": "text"
      },
      "source": [
        "There are two types of Slot Frequency are there False True"
      ]
    },
    {
      "cell_type": "code",
      "metadata": {
        "id": "XjTM5LD0ua9e",
        "colab_type": "code",
        "outputId": "e0af8d97-2fc2-4b15-a573-8f92b060cde4",
        "colab": {
          "base_uri": "https://localhost:8080/",
          "height": 86
        }
      },
      "source": [
        "data['Slot Frequency'].value_counts()"
      ],
      "execution_count": 0,
      "outputs": [
        {
          "output_type": "execute_result",
          "data": {
            "text/plain": [
              "False             16778\n",
              "[unknown type]      530\n",
              "True                 49\n",
              "Name: Slot Frequency, dtype: int64"
            ]
          },
          "metadata": {
            "tags": []
          },
          "execution_count": 102
        }
      ]
    },
    {
      "cell_type": "markdown",
      "metadata": {
        "id": "gIHup7oCuyyt",
        "colab_type": "text"
      },
      "source": [
        "Replace the unknmown type with false"
      ]
    },
    {
      "cell_type": "code",
      "metadata": {
        "id": "biOOSKLHuuvi",
        "colab_type": "code",
        "colab": {}
      },
      "source": [
        "data['Slot Frequency'] = data['Slot Frequency'].replace('[unknown type]',False)"
      ],
      "execution_count": 0,
      "outputs": []
    },
    {
      "cell_type": "code",
      "metadata": {
        "id": "x0dwpmQpvB_d",
        "colab_type": "code",
        "outputId": "75ff809e-2cf9-4eda-f52d-c72c44f80d87",
        "colab": {
          "base_uri": "https://localhost:8080/",
          "height": 69
        }
      },
      "source": [
        "data['Slot Frequency'].value_counts()"
      ],
      "execution_count": 0,
      "outputs": [
        {
          "output_type": "execute_result",
          "data": {
            "text/plain": [
              "False    17308\n",
              "True        49\n",
              "Name: Slot Frequency, dtype: int64"
            ]
          },
          "metadata": {
            "tags": []
          },
          "execution_count": 104
        }
      ]
    },
    {
      "cell_type": "code",
      "metadata": {
        "id": "1zk-9MVRvE6s",
        "colab_type": "code",
        "colab": {}
      },
      "source": [
        "\n",
        "      "
      ],
      "execution_count": 0,
      "outputs": []
    },
    {
      "cell_type": "markdown",
      "metadata": {
        "id": "LMiBnWLhxaP8",
        "colab_type": "text"
      },
      "source": [
        "Slot frequency enabled for these vehicle numbers starts with below "
      ]
    },
    {
      "cell_type": "code",
      "metadata": {
        "id": "DddoJyyEvNQp",
        "colab_type": "code",
        "outputId": "7725cb85-e9de-4eff-e11f-534a32aa2691",
        "colab": {
          "base_uri": "https://localhost:8080/",
          "height": 173
        }
      },
      "source": [
        "data[data['Slot Frequency']==True]['State'].value_counts()"
      ],
      "execution_count": 0,
      "outputs": [
        {
          "output_type": "execute_result",
          "data": {
            "text/plain": [
              "MH    30\n",
              "TS     6\n",
              "DL     6\n",
              "KA     3\n",
              "MP     1\n",
              "AP     1\n",
              "HR     1\n",
              "RJ     1\n",
              "Name: State, dtype: int64"
            ]
          },
          "metadata": {
            "tags": []
          },
          "execution_count": 105
        }
      ]
    },
    {
      "cell_type": "code",
      "metadata": {
        "id": "vkg7B2oqxHhB",
        "colab_type": "code",
        "outputId": "66eb0013-eed1-42ae-b17e-8cb9df4dc2e1",
        "colab": {
          "base_uri": "https://localhost:8080/",
          "height": 86
        }
      },
      "source": [
        "data[data['Slot Frequency']==True]['Companies'].value_counts()"
      ],
      "execution_count": 0,
      "outputs": [
        {
          "output_type": "execute_result",
          "data": {
            "text/plain": [
              "RARE                                46\n",
              "Alps Logistics/chennai               2\n",
              "Logistics Plus India Pvt Ltd/MTC     1\n",
              "Name: Companies, dtype: int64"
            ]
          },
          "metadata": {
            "tags": []
          },
          "execution_count": 106
        }
      ]
    },
    {
      "cell_type": "markdown",
      "metadata": {
        "id": "mO95831myckY",
        "colab_type": "text"
      },
      "source": [
        "The above companies are enables slot frequency  but RARE is having 46 createed but those are diffrenet organization with less created tips"
      ]
    },
    {
      "cell_type": "markdown",
      "metadata": {
        "id": "ee5BVtjZzhnH",
        "colab_type": "text"
      },
      "source": [
        "**With Slot Frequency Enabled The Trips are very less Created**"
      ]
    },
    {
      "cell_type": "code",
      "metadata": {
        "id": "Iky81J3b3Xey",
        "colab_type": "code",
        "colab": {}
      },
      "source": [
        "data['No Of Pings'] = data['No Of Pings'].replace('Infinity',0)\n",
        "#there is on row with infinity this is error kind replacing with 0"
      ],
      "execution_count": 0,
      "outputs": []
    },
    {
      "cell_type": "code",
      "metadata": {
        "id": "56fPrc5kz9qX",
        "colab_type": "code",
        "outputId": "f35aa046-bf2c-446c-cf60-078ff781a405",
        "colab": {
          "base_uri": "https://localhost:8080/",
          "height": 167
        }
      },
      "source": [
        "get_highestPings()"
      ],
      "execution_count": 0,
      "outputs": [
        {
          "output_type": "error",
          "ename": "NameError",
          "evalue": "ignored",
          "traceback": [
            "\u001b[0;31m---------------------------------------------------------------------------\u001b[0m",
            "\u001b[0;31mNameError\u001b[0m                                 Traceback (most recent call last)",
            "\u001b[0;32m<ipython-input-108-9d1d9bb55e00>\u001b[0m in \u001b[0;36m<module>\u001b[0;34m()\u001b[0m\n\u001b[0;32m----> 1\u001b[0;31m \u001b[0mget_highestPings\u001b[0m\u001b[0;34m(\u001b[0m\u001b[0;34m)\u001b[0m\u001b[0;34m\u001b[0m\u001b[0;34m\u001b[0m\u001b[0m\n\u001b[0m",
            "\u001b[0;31mNameError\u001b[0m: name 'get_highestPings' is not defined"
          ]
        }
      ]
    },
    {
      "cell_type": "code",
      "metadata": {
        "id": "QGN__3lMaPHn",
        "colab_type": "code",
        "colab": {}
      },
      "source": [
        ""
      ],
      "execution_count": 0,
      "outputs": []
    },
    {
      "cell_type": "markdown",
      "metadata": {
        "id": "OR5qviyd2Vzd",
        "colab_type": "text"
      },
      "source": [
        "The highest pings is 2730"
      ]
    },
    {
      "cell_type": "code",
      "metadata": {
        "colab_type": "code",
        "id": "AZIQtVKn1xsa",
        "outputId": "3a272f3b-648b-4920-fdc6-eb81df1cd8c0",
        "colab": {
          "base_uri": "https://localhost:8080/",
          "height": 187
        }
      },
      "source": [
        "data[data['No Of Pings']==2730]"
      ],
      "execution_count": 0,
      "outputs": [
        {
          "output_type": "execute_result",
          "data": {
            "text/html": [
              "<div>\n",
              "<style scoped>\n",
              "    .dataframe tbody tr th:only-of-type {\n",
              "        vertical-align: middle;\n",
              "    }\n",
              "\n",
              "    .dataframe tbody tr th {\n",
              "        vertical-align: top;\n",
              "    }\n",
              "\n",
              "    .dataframe thead th {\n",
              "        text-align: right;\n",
              "    }\n",
              "</style>\n",
              "<table border=\"1\" class=\"dataframe\">\n",
              "  <thead>\n",
              "    <tr style=\"text-align: right;\">\n",
              "      <th></th>\n",
              "      <th>Vehicle No</th>\n",
              "      <th>Created</th>\n",
              "      <th>Total Distance</th>\n",
              "      <th>Distance Travelled</th>\n",
              "      <th>Remaining Distance</th>\n",
              "      <th>No Of Pings</th>\n",
              "      <th>Pings Used</th>\n",
              "      <th>Origin</th>\n",
              "      <th>Destination</th>\n",
              "      <th>Start Time</th>\n",
              "      <th>End Time</th>\n",
              "      <th>Slot Frequency</th>\n",
              "      <th>Tracking Status</th>\n",
              "      <th>Driver Count</th>\n",
              "      <th>Companies</th>\n",
              "      <th>Drivers</th>\n",
              "      <th>State</th>\n",
              "      <th>diff</th>\n",
              "      <th>LessActiveCompanies</th>\n",
              "      <th>MoreActiveCompanies</th>\n",
              "    </tr>\n",
              "  </thead>\n",
              "  <tbody>\n",
              "    <tr>\n",
              "      <th>16194</th>\n",
              "      <td>TN60U4786</td>\n",
              "      <td>Fri Dec 27 2019 06:36:36 GMT+0000 (UTC)</td>\n",
              "      <td>2763.16</td>\n",
              "      <td>0.0</td>\n",
              "      <td>0.0</td>\n",
              "      <td>2730</td>\n",
              "      <td>0.0</td>\n",
              "      <td>Sankaramangalam/ Chavara/ Kerala/ India</td>\n",
              "      <td>Bhiwadi/ Rajasthan/ India</td>\n",
              "      <td>Fri Dec 27 2019 06:36:36 GMT+0000 (UTC)</td>\n",
              "      <td>ETN</td>\n",
              "      <td>False</td>\n",
              "      <td>Active</td>\n",
              "      <td>1.0</td>\n",
              "      <td>V TRANS INDIA LIMITED/COIMBATORE</td>\n",
              "      <td>ABUTHAHIR K</td>\n",
              "      <td>TN</td>\n",
              "      <td>-2763.16</td>\n",
              "      <td>None</td>\n",
              "      <td>None</td>\n",
              "    </tr>\n",
              "  </tbody>\n",
              "</table>\n",
              "</div>"
            ],
            "text/plain": [
              "      Vehicle No  ... MoreActiveCompanies\n",
              "16194  TN60U4786  ...                None\n",
              "\n",
              "[1 rows x 20 columns]"
            ]
          },
          "metadata": {
            "tags": []
          },
          "execution_count": 109
        }
      ]
    },
    {
      "cell_type": "code",
      "metadata": {
        "id": "1PhL7f690u9U",
        "colab_type": "code",
        "outputId": "86a8e3b4-2b5f-4575-e27b-0b2287ee7f84",
        "colab": {
          "base_uri": "https://localhost:8080/",
          "height": 34
        }
      },
      "source": [
        "data['No Of Pings'].max()"
      ],
      "execution_count": 0,
      "outputs": [
        {
          "output_type": "execute_result",
          "data": {
            "text/plain": [
              "2730"
            ]
          },
          "metadata": {
            "tags": []
          },
          "execution_count": 110
        }
      ]
    },
    {
      "cell_type": "code",
      "metadata": {
        "id": "r3ZLpq4S4n_9",
        "colab_type": "code",
        "outputId": "c8b7852f-5eeb-4329-b4b5-f24bb3cbb029",
        "colab": {
          "base_uri": "https://localhost:8080/",
          "height": 34
        }
      },
      "source": [
        "data['Pings Used'].max()"
      ],
      "execution_count": 0,
      "outputs": [
        {
          "output_type": "execute_result",
          "data": {
            "text/plain": [
              "685.0"
            ]
          },
          "metadata": {
            "tags": []
          },
          "execution_count": 111
        }
      ]
    },
    {
      "cell_type": "markdown",
      "metadata": {
        "id": "MPVPir92Dftn",
        "colab_type": "text"
      },
      "source": [
        "**High Number Of Pings Used Company**"
      ]
    },
    {
      "cell_type": "code",
      "metadata": {
        "id": "96tfKAnt41gD",
        "colab_type": "code",
        "outputId": "33404d01-d9ea-4c71-ddbd-0c770d2bcf60",
        "colab": {
          "base_uri": "https://localhost:8080/",
          "height": 187
        }
      },
      "source": [
        "data[data['Pings Used']== data['Pings Used'].max()]"
      ],
      "execution_count": 0,
      "outputs": [
        {
          "output_type": "execute_result",
          "data": {
            "text/html": [
              "<div>\n",
              "<style scoped>\n",
              "    .dataframe tbody tr th:only-of-type {\n",
              "        vertical-align: middle;\n",
              "    }\n",
              "\n",
              "    .dataframe tbody tr th {\n",
              "        vertical-align: top;\n",
              "    }\n",
              "\n",
              "    .dataframe thead th {\n",
              "        text-align: right;\n",
              "    }\n",
              "</style>\n",
              "<table border=\"1\" class=\"dataframe\">\n",
              "  <thead>\n",
              "    <tr style=\"text-align: right;\">\n",
              "      <th></th>\n",
              "      <th>Vehicle No</th>\n",
              "      <th>Created</th>\n",
              "      <th>Total Distance</th>\n",
              "      <th>Distance Travelled</th>\n",
              "      <th>Remaining Distance</th>\n",
              "      <th>No Of Pings</th>\n",
              "      <th>Pings Used</th>\n",
              "      <th>Origin</th>\n",
              "      <th>Destination</th>\n",
              "      <th>Start Time</th>\n",
              "      <th>End Time</th>\n",
              "      <th>Slot Frequency</th>\n",
              "      <th>Tracking Status</th>\n",
              "      <th>Driver Count</th>\n",
              "      <th>Companies</th>\n",
              "      <th>Drivers</th>\n",
              "      <th>State</th>\n",
              "      <th>diff</th>\n",
              "      <th>LessActiveCompanies</th>\n",
              "      <th>MoreActiveCompanies</th>\n",
              "    </tr>\n",
              "  </thead>\n",
              "  <tbody>\n",
              "    <tr>\n",
              "      <th>7294</th>\n",
              "      <td>HR05AD4352</td>\n",
              "      <td>Fri Nov 29 2019 15:51:27 GMT+0000 (UTC)</td>\n",
              "      <td>2161.68</td>\n",
              "      <td>3498.12</td>\n",
              "      <td>172.55</td>\n",
              "      <td>362</td>\n",
              "      <td>685.0</td>\n",
              "      <td>Oragadam/ Chennai/ Tamil Nadu/ India</td>\n",
              "      <td>Gurugram/ Haryana/ India</td>\n",
              "      <td>Fri Nov 29 2019 15:51:27 GMT+0000 (UTC)</td>\n",
              "      <td>ETN</td>\n",
              "      <td>False</td>\n",
              "      <td>Active</td>\n",
              "      <td>1.0</td>\n",
              "      <td>WHITE DATA SYSTEMS INDIA PRIVATE LIMITED/KONE</td>\n",
              "      <td>SUBHASH CHAND</td>\n",
              "      <td>HR</td>\n",
              "      <td>1336.44</td>\n",
              "      <td>None</td>\n",
              "      <td>None</td>\n",
              "    </tr>\n",
              "  </tbody>\n",
              "</table>\n",
              "</div>"
            ],
            "text/plain": [
              "      Vehicle No  ... MoreActiveCompanies\n",
              "7294  HR05AD4352  ...                None\n",
              "\n",
              "[1 rows x 20 columns]"
            ]
          },
          "metadata": {
            "tags": []
          },
          "execution_count": 112
        }
      ]
    },
    {
      "cell_type": "code",
      "metadata": {
        "id": "7Bsv9MyTDwTw",
        "colab_type": "code",
        "colab": {}
      },
      "source": [
        ""
      ],
      "execution_count": 0,
      "outputs": []
    },
    {
      "cell_type": "code",
      "metadata": {
        "id": "MZPqtQW_4-4q",
        "colab_type": "code",
        "outputId": "8afdfb5c-936f-41de-e3c2-ae7051ee56d7",
        "colab": {
          "base_uri": "https://localhost:8080/",
          "height": 34
        }
      },
      "source": [
        "data['Distance Travelled'].max()"
      ],
      "execution_count": 0,
      "outputs": [
        {
          "output_type": "execute_result",
          "data": {
            "text/plain": [
              "26228.78"
            ]
          },
          "metadata": {
            "tags": []
          },
          "execution_count": 113
        }
      ]
    },
    {
      "cell_type": "markdown",
      "metadata": {
        "id": "gOUps4pdDXoW",
        "colab_type": "text"
      },
      "source": [
        "**Maximum Distance Travelled**"
      ]
    },
    {
      "cell_type": "code",
      "metadata": {
        "id": "JRHVi2sw96AF",
        "colab_type": "code",
        "outputId": "54e178f7-f474-4656-ded7-88e4e85e9364",
        "colab": {
          "base_uri": "https://localhost:8080/",
          "height": 187
        }
      },
      "source": [
        "data[data['Distance Travelled']==data['Distance Travelled'].max()]"
      ],
      "execution_count": 0,
      "outputs": [
        {
          "output_type": "execute_result",
          "data": {
            "text/html": [
              "<div>\n",
              "<style scoped>\n",
              "    .dataframe tbody tr th:only-of-type {\n",
              "        vertical-align: middle;\n",
              "    }\n",
              "\n",
              "    .dataframe tbody tr th {\n",
              "        vertical-align: top;\n",
              "    }\n",
              "\n",
              "    .dataframe thead th {\n",
              "        text-align: right;\n",
              "    }\n",
              "</style>\n",
              "<table border=\"1\" class=\"dataframe\">\n",
              "  <thead>\n",
              "    <tr style=\"text-align: right;\">\n",
              "      <th></th>\n",
              "      <th>Vehicle No</th>\n",
              "      <th>Created</th>\n",
              "      <th>Total Distance</th>\n",
              "      <th>Distance Travelled</th>\n",
              "      <th>Remaining Distance</th>\n",
              "      <th>No Of Pings</th>\n",
              "      <th>Pings Used</th>\n",
              "      <th>Origin</th>\n",
              "      <th>Destination</th>\n",
              "      <th>Start Time</th>\n",
              "      <th>End Time</th>\n",
              "      <th>Slot Frequency</th>\n",
              "      <th>Tracking Status</th>\n",
              "      <th>Driver Count</th>\n",
              "      <th>Companies</th>\n",
              "      <th>Drivers</th>\n",
              "      <th>State</th>\n",
              "      <th>diff</th>\n",
              "      <th>LessActiveCompanies</th>\n",
              "      <th>MoreActiveCompanies</th>\n",
              "    </tr>\n",
              "  </thead>\n",
              "  <tbody>\n",
              "    <tr>\n",
              "      <th>485</th>\n",
              "      <td>TN28AA3789</td>\n",
              "      <td>Sun Nov 03 2019 11:31:16 GMT+0000 (UTC)</td>\n",
              "      <td>1392.71</td>\n",
              "      <td>26228.78</td>\n",
              "      <td>0.0</td>\n",
              "      <td>44</td>\n",
              "      <td>44.0</td>\n",
              "      <td>Plot No.318/B/6/ A - 2/ 707 - 709/ GIDC Rd/ 40...</td>\n",
              "      <td>Coimbatore/ Tamil Nadu/ India</td>\n",
              "      <td>Sun Nov 03 2019 11:31:15 GMT+0000 (UTC)</td>\n",
              "      <td>Mon Nov 11 2019 09:46:04 GMT+0000 (UTC)</td>\n",
              "      <td>False</td>\n",
              "      <td>Inactive</td>\n",
              "      <td>1.0</td>\n",
              "      <td>V TRANS INDIA LIMITED/SOUTH GUJARAT</td>\n",
              "      <td>subramani n</td>\n",
              "      <td>TN</td>\n",
              "      <td>24836.07</td>\n",
              "      <td>None</td>\n",
              "      <td>V TRANS INDIA LIMITED/SOUTH GUJARAT</td>\n",
              "    </tr>\n",
              "  </tbody>\n",
              "</table>\n",
              "</div>"
            ],
            "text/plain": [
              "     Vehicle No  ...                  MoreActiveCompanies\n",
              "485  TN28AA3789  ...  V TRANS INDIA LIMITED/SOUTH GUJARAT\n",
              "\n",
              "[1 rows x 20 columns]"
            ]
          },
          "metadata": {
            "tags": []
          },
          "execution_count": 114
        }
      ]
    },
    {
      "cell_type": "code",
      "metadata": {
        "id": "juzZkgYX8ZnD",
        "colab_type": "code",
        "outputId": "dc782805-a8d1-4717-b32c-1202fd0dc43b",
        "colab": {
          "base_uri": "https://localhost:8080/",
          "height": 34
        }
      },
      "source": [
        "data['Total Distance'].max()"
      ],
      "execution_count": 0,
      "outputs": [
        {
          "output_type": "execute_result",
          "data": {
            "text/plain": [
              "3508.29"
            ]
          },
          "metadata": {
            "tags": []
          },
          "execution_count": 115
        }
      ]
    },
    {
      "cell_type": "markdown",
      "metadata": {
        "id": "PkgCS8zYDQtC",
        "colab_type": "text"
      },
      "source": [
        "**Maximum Total Distance**"
      ]
    },
    {
      "cell_type": "code",
      "metadata": {
        "id": "1v_wSLhr9yti",
        "colab_type": "code",
        "outputId": "0afcebd4-f972-44fa-a8ed-515ce1626a85",
        "colab": {
          "base_uri": "https://localhost:8080/",
          "height": 187
        }
      },
      "source": [
        "data[data['Total Distance']==data['Total Distance'].max()]"
      ],
      "execution_count": 0,
      "outputs": [
        {
          "output_type": "execute_result",
          "data": {
            "text/html": [
              "<div>\n",
              "<style scoped>\n",
              "    .dataframe tbody tr th:only-of-type {\n",
              "        vertical-align: middle;\n",
              "    }\n",
              "\n",
              "    .dataframe tbody tr th {\n",
              "        vertical-align: top;\n",
              "    }\n",
              "\n",
              "    .dataframe thead th {\n",
              "        text-align: right;\n",
              "    }\n",
              "</style>\n",
              "<table border=\"1\" class=\"dataframe\">\n",
              "  <thead>\n",
              "    <tr style=\"text-align: right;\">\n",
              "      <th></th>\n",
              "      <th>Vehicle No</th>\n",
              "      <th>Created</th>\n",
              "      <th>Total Distance</th>\n",
              "      <th>Distance Travelled</th>\n",
              "      <th>Remaining Distance</th>\n",
              "      <th>No Of Pings</th>\n",
              "      <th>Pings Used</th>\n",
              "      <th>Origin</th>\n",
              "      <th>Destination</th>\n",
              "      <th>Start Time</th>\n",
              "      <th>End Time</th>\n",
              "      <th>Slot Frequency</th>\n",
              "      <th>Tracking Status</th>\n",
              "      <th>Driver Count</th>\n",
              "      <th>Companies</th>\n",
              "      <th>Drivers</th>\n",
              "      <th>State</th>\n",
              "      <th>diff</th>\n",
              "      <th>LessActiveCompanies</th>\n",
              "      <th>MoreActiveCompanies</th>\n",
              "    </tr>\n",
              "  </thead>\n",
              "  <tbody>\n",
              "    <tr>\n",
              "      <th>14974</th>\n",
              "      <td>MH12NX0987</td>\n",
              "      <td>Tue Dec 24 2019 08:29:03 GMT+0000 (UTC)</td>\n",
              "      <td>3508.29</td>\n",
              "      <td>2391.76</td>\n",
              "      <td>1685.95</td>\n",
              "      <td>278</td>\n",
              "      <td>128.0</td>\n",
              "      <td>Doddaballapura/ Karnataka/ India</td>\n",
              "      <td>Agartala/ Tripura/ India</td>\n",
              "      <td>Tue Dec 24 2019 08:29:03 GMT+0000 (UTC)</td>\n",
              "      <td>ETN</td>\n",
              "      <td>False</td>\n",
              "      <td>Active</td>\n",
              "      <td>1.0</td>\n",
              "      <td>TRANSPORT CORPORATION OF INDIA LIMITED/DBP</td>\n",
              "      <td>Agartala</td>\n",
              "      <td>MH</td>\n",
              "      <td>-1116.53</td>\n",
              "      <td>None</td>\n",
              "      <td>None</td>\n",
              "    </tr>\n",
              "  </tbody>\n",
              "</table>\n",
              "</div>"
            ],
            "text/plain": [
              "       Vehicle No  ... MoreActiveCompanies\n",
              "14974  MH12NX0987  ...                None\n",
              "\n",
              "[1 rows x 20 columns]"
            ]
          },
          "metadata": {
            "tags": []
          },
          "execution_count": 116
        }
      ]
    },
    {
      "cell_type": "code",
      "metadata": {
        "id": "Y0tVJZqXDMxT",
        "colab_type": "code",
        "outputId": "4e190aaf-e004-4ff4-f9a7-cec44c7640ea",
        "colab": {
          "base_uri": "https://localhost:8080/",
          "height": 626
        }
      },
      "source": [
        "data.head()"
      ],
      "execution_count": 0,
      "outputs": [
        {
          "output_type": "execute_result",
          "data": {
            "text/html": [
              "<div>\n",
              "<style scoped>\n",
              "    .dataframe tbody tr th:only-of-type {\n",
              "        vertical-align: middle;\n",
              "    }\n",
              "\n",
              "    .dataframe tbody tr th {\n",
              "        vertical-align: top;\n",
              "    }\n",
              "\n",
              "    .dataframe thead th {\n",
              "        text-align: right;\n",
              "    }\n",
              "</style>\n",
              "<table border=\"1\" class=\"dataframe\">\n",
              "  <thead>\n",
              "    <tr style=\"text-align: right;\">\n",
              "      <th></th>\n",
              "      <th>Vehicle No</th>\n",
              "      <th>Created</th>\n",
              "      <th>Total Distance</th>\n",
              "      <th>Distance Travelled</th>\n",
              "      <th>Remaining Distance</th>\n",
              "      <th>No Of Pings</th>\n",
              "      <th>Pings Used</th>\n",
              "      <th>Origin</th>\n",
              "      <th>Destination</th>\n",
              "      <th>Start Time</th>\n",
              "      <th>End Time</th>\n",
              "      <th>Slot Frequency</th>\n",
              "      <th>Tracking Status</th>\n",
              "      <th>Driver Count</th>\n",
              "      <th>Companies</th>\n",
              "      <th>Drivers</th>\n",
              "      <th>State</th>\n",
              "      <th>diff</th>\n",
              "      <th>LessActiveCompanies</th>\n",
              "      <th>MoreActiveCompanies</th>\n",
              "    </tr>\n",
              "  </thead>\n",
              "  <tbody>\n",
              "    <tr>\n",
              "      <th>0</th>\n",
              "      <td>HR73A9291</td>\n",
              "      <td>Thu Oct 31 2019 18:30:29 GMT+0000 (UTC)</td>\n",
              "      <td>2134.62</td>\n",
              "      <td>2302.56</td>\n",
              "      <td>0.0</td>\n",
              "      <td>39</td>\n",
              "      <td>39.0</td>\n",
              "      <td>Gummidipundi/ Tamil Nadu 601201/ India</td>\n",
              "      <td>Ghaziabad/ Uttar Pradesh/ India</td>\n",
              "      <td>Thu Oct 31 2019 18:30:29 GMT+0000 (UTC)</td>\n",
              "      <td>Sun Nov 10 2019 02:19:05 GMT+0000 (UTC)</td>\n",
              "      <td>False</td>\n",
              "      <td>Inactive</td>\n",
              "      <td>1.0</td>\n",
              "      <td>RARE</td>\n",
              "      <td>asis</td>\n",
              "      <td>HR</td>\n",
              "      <td>167.94</td>\n",
              "      <td>None</td>\n",
              "      <td>RARE</td>\n",
              "    </tr>\n",
              "    <tr>\n",
              "      <th>1</th>\n",
              "      <td>HR73A3318</td>\n",
              "      <td>Thu Oct 31 2019 18:34:29 GMT+0000 (UTC)</td>\n",
              "      <td>539.70</td>\n",
              "      <td>576.54</td>\n",
              "      <td>0.0</td>\n",
              "      <td>8</td>\n",
              "      <td>8.0</td>\n",
              "      <td>Gummidipundi/ Tamil Nadu 601201/ India</td>\n",
              "      <td>Coimbatore/ Tamil Nadu/ India</td>\n",
              "      <td>Thu Oct 31 2019 18:34:29 GMT+0000 (UTC)</td>\n",
              "      <td>Sat Nov 02 2019 17:52:45 GMT+0000 (UTC)</td>\n",
              "      <td>False</td>\n",
              "      <td>Inactive</td>\n",
              "      <td>1.0</td>\n",
              "      <td>RARE</td>\n",
              "      <td>ARSAD</td>\n",
              "      <td>HR</td>\n",
              "      <td>36.84</td>\n",
              "      <td>None</td>\n",
              "      <td>RARE</td>\n",
              "    </tr>\n",
              "    <tr>\n",
              "      <th>2</th>\n",
              "      <td>HR73A0658</td>\n",
              "      <td>Thu Oct 31 2019 18:36:35 GMT+0000 (UTC)</td>\n",
              "      <td>539.70</td>\n",
              "      <td>0.00</td>\n",
              "      <td>0.0</td>\n",
              "      <td>0</td>\n",
              "      <td>0.0</td>\n",
              "      <td>Gummidipundi/ Tamil Nadu 601201/ India</td>\n",
              "      <td>Coimbatore/ Tamil Nadu/ India</td>\n",
              "      <td>Thu Oct 31 2019 18:36:34 GMT+0000 (UTC)</td>\n",
              "      <td>Sat Nov 02 2019 17:52:42 GMT+0000 (UTC)</td>\n",
              "      <td>False</td>\n",
              "      <td>Inactive</td>\n",
              "      <td>1.0</td>\n",
              "      <td>RARE</td>\n",
              "      <td>jafru</td>\n",
              "      <td>HR</td>\n",
              "      <td>-539.70</td>\n",
              "      <td>None</td>\n",
              "      <td>RARE</td>\n",
              "    </tr>\n",
              "    <tr>\n",
              "      <th>3</th>\n",
              "      <td>HR47D7760</td>\n",
              "      <td>Thu Oct 31 2019 18:57:26 GMT+0000 (UTC)</td>\n",
              "      <td>1845.07</td>\n",
              "      <td>1967.29</td>\n",
              "      <td>0.0</td>\n",
              "      <td>55</td>\n",
              "      <td>55.0</td>\n",
              "      <td>Vallakkottai/ Tamil Nadu 631604/ India</td>\n",
              "      <td>Bol/ Gujarat/ India</td>\n",
              "      <td>Thu Oct 31 2019 18:57:25 GMT+0000 (UTC)</td>\n",
              "      <td>Fri Nov 08 2019 05:22:26 GMT+0000 (UTC)</td>\n",
              "      <td>False</td>\n",
              "      <td>Inactive</td>\n",
              "      <td>1.0</td>\n",
              "      <td>WHITE DATA SYSTEMS INDIA PRIVATE LIMITED/TVS C...</td>\n",
              "      <td>MOHAMMED KASAM</td>\n",
              "      <td>HR</td>\n",
              "      <td>122.22</td>\n",
              "      <td>None</td>\n",
              "      <td>WHITE DATA SYSTEMS INDIA PRIVATE LIMITED/TVS C...</td>\n",
              "    </tr>\n",
              "    <tr>\n",
              "      <th>4</th>\n",
              "      <td>TN54K5834</td>\n",
              "      <td>Thu Oct 31 2019 18:58:23 GMT+0000 (UTC)</td>\n",
              "      <td>1845.07</td>\n",
              "      <td>2165.87</td>\n",
              "      <td>0.0</td>\n",
              "      <td>75</td>\n",
              "      <td>75.0</td>\n",
              "      <td>Vallakkottai/ Tamil Nadu 631604/ India</td>\n",
              "      <td>Bol/ Gujarat/ India</td>\n",
              "      <td>Thu Oct 31 2019 18:58:22 GMT+0000 (UTC)</td>\n",
              "      <td>Fri Nov 08 2019 05:22:22 GMT+0000 (UTC)</td>\n",
              "      <td>False</td>\n",
              "      <td>Inactive</td>\n",
              "      <td>1.0</td>\n",
              "      <td>WHITE DATA SYSTEMS INDIA PRIVATE LIMITED/TVS C...</td>\n",
              "      <td>MURUGAN</td>\n",
              "      <td>TN</td>\n",
              "      <td>320.80</td>\n",
              "      <td>None</td>\n",
              "      <td>WHITE DATA SYSTEMS INDIA PRIVATE LIMITED/TVS C...</td>\n",
              "    </tr>\n",
              "  </tbody>\n",
              "</table>\n",
              "</div>"
            ],
            "text/plain": [
              "  Vehicle No  ...                                MoreActiveCompanies\n",
              "0  HR73A9291  ...                                               RARE\n",
              "1  HR73A3318  ...                                               RARE\n",
              "2  HR73A0658  ...                                               RARE\n",
              "3  HR47D7760  ...  WHITE DATA SYSTEMS INDIA PRIVATE LIMITED/TVS C...\n",
              "4  TN54K5834  ...  WHITE DATA SYSTEMS INDIA PRIVATE LIMITED/TVS C...\n",
              "\n",
              "[5 rows x 20 columns]"
            ]
          },
          "metadata": {
            "tags": []
          },
          "execution_count": 117
        }
      ]
    },
    {
      "cell_type": "code",
      "metadata": {
        "id": "-wj9HmEtbimY",
        "colab_type": "code",
        "outputId": "649678d1-4944-4780-ceb0-35a9c8d587d5",
        "colab": {
          "base_uri": "https://localhost:8080/",
          "height": 34
        }
      },
      "source": [
        "data['Origin'].nunique()"
      ],
      "execution_count": 0,
      "outputs": [
        {
          "output_type": "execute_result",
          "data": {
            "text/plain": [
              "942"
            ]
          },
          "metadata": {
            "tags": []
          },
          "execution_count": 118
        }
      ]
    },
    {
      "cell_type": "code",
      "metadata": {
        "id": "b2UmLdVVbuuu",
        "colab_type": "code",
        "colab": {}
      },
      "source": [
        "data['OriginArea'] = data['Origin'].apply(lambda l : l.split('/')[0])"
      ],
      "execution_count": 0,
      "outputs": []
    },
    {
      "cell_type": "code",
      "metadata": {
        "id": "4hq_aey_b_z1",
        "colab_type": "code",
        "outputId": "017d3cb0-40ec-4b2f-a06d-bdbc1fd2ca24",
        "colab": {
          "base_uri": "https://localhost:8080/",
          "height": 34
        }
      },
      "source": [
        "data['OriginArea'].nunique()"
      ],
      "execution_count": 0,
      "outputs": [
        {
          "output_type": "execute_result",
          "data": {
            "text/plain": [
              "870"
            ]
          },
          "metadata": {
            "tags": []
          },
          "execution_count": 135
        }
      ]
    },
    {
      "cell_type": "code",
      "metadata": {
        "id": "faU_L_e6cDva",
        "colab_type": "code",
        "colab": {}
      },
      "source": [
        "data['OriginArea'].value_counts().to_excel('regionWiseTrips.xlsx')"
      ],
      "execution_count": 0,
      "outputs": []
    },
    {
      "cell_type": "code",
      "metadata": {
        "id": "xyBL6mEWcK_5",
        "colab_type": "code",
        "colab": {}
      },
      "source": [
        "data['OriginState'] = data['Origin'].apply(lambda l : l.split('/')[1])"
      ],
      "execution_count": 0,
      "outputs": []
    },
    {
      "cell_type": "code",
      "metadata": {
        "id": "sR5Frf6Ic6Bg",
        "colab_type": "code",
        "outputId": "cdb16331-4950-49d1-d609-3a1e8eb6b854",
        "colab": {
          "base_uri": "https://localhost:8080/",
          "height": 34
        }
      },
      "source": [
        "data['OriginState'].nunique()"
      ],
      "execution_count": 0,
      "outputs": [
        {
          "output_type": "execute_result",
          "data": {
            "text/plain": [
              "558"
            ]
          },
          "metadata": {
            "tags": []
          },
          "execution_count": 123
        }
      ]
    },
    {
      "cell_type": "code",
      "metadata": {
        "id": "aT61I4WHc9Pl",
        "colab_type": "code",
        "outputId": "4934b5cf-b3c0-4c0b-b484-87a0d161e3db",
        "colab": {
          "base_uri": "https://localhost:8080/",
          "height": 225
        }
      },
      "source": [
        "data['OriginState'].value_counts()"
      ],
      "execution_count": 0,
      "outputs": [
        {
          "output_type": "execute_result",
          "data": {
            "text/plain": [
              " Tamil Nadu               2240\n",
              " Maharashtra              2198\n",
              " Karnataka                 815\n",
              "B                          765\n",
              " India                     675\n",
              "                          ... \n",
              " Vishal Nagar                1\n",
              " Madhya Pradesh 471001       1\n",
              " Gujarat 360421              1\n",
              " Haryana 131029              1\n",
              " A St                        1\n",
              "Name: OriginState, Length: 558, dtype: int64"
            ]
          },
          "metadata": {
            "tags": []
          },
          "execution_count": 124
        }
      ]
    },
    {
      "cell_type": "code",
      "metadata": {
        "id": "IF82sIfYdEYI",
        "colab_type": "code",
        "outputId": "bab58849-39e8-4cfa-b905-02836ca77359",
        "colab": {
          "base_uri": "https://localhost:8080/",
          "height": 626
        }
      },
      "source": [
        "data.head()"
      ],
      "execution_count": 0,
      "outputs": [
        {
          "output_type": "execute_result",
          "data": {
            "text/html": [
              "<div>\n",
              "<style scoped>\n",
              "    .dataframe tbody tr th:only-of-type {\n",
              "        vertical-align: middle;\n",
              "    }\n",
              "\n",
              "    .dataframe tbody tr th {\n",
              "        vertical-align: top;\n",
              "    }\n",
              "\n",
              "    .dataframe thead th {\n",
              "        text-align: right;\n",
              "    }\n",
              "</style>\n",
              "<table border=\"1\" class=\"dataframe\">\n",
              "  <thead>\n",
              "    <tr style=\"text-align: right;\">\n",
              "      <th></th>\n",
              "      <th>Vehicle No</th>\n",
              "      <th>Created</th>\n",
              "      <th>Total Distance</th>\n",
              "      <th>Distance Travelled</th>\n",
              "      <th>Remaining Distance</th>\n",
              "      <th>No Of Pings</th>\n",
              "      <th>Pings Used</th>\n",
              "      <th>Origin</th>\n",
              "      <th>Destination</th>\n",
              "      <th>Start Time</th>\n",
              "      <th>End Time</th>\n",
              "      <th>Slot Frequency</th>\n",
              "      <th>Tracking Status</th>\n",
              "      <th>Driver Count</th>\n",
              "      <th>Companies</th>\n",
              "      <th>Drivers</th>\n",
              "      <th>State</th>\n",
              "      <th>diff</th>\n",
              "      <th>LessActiveCompanies</th>\n",
              "      <th>MoreActiveCompanies</th>\n",
              "      <th>OriginArea</th>\n",
              "      <th>OriginState</th>\n",
              "    </tr>\n",
              "  </thead>\n",
              "  <tbody>\n",
              "    <tr>\n",
              "      <th>0</th>\n",
              "      <td>HR73A9291</td>\n",
              "      <td>Thu Oct 31 2019 18:30:29 GMT+0000 (UTC)</td>\n",
              "      <td>2134.62</td>\n",
              "      <td>2302.56</td>\n",
              "      <td>0.0</td>\n",
              "      <td>39</td>\n",
              "      <td>39.0</td>\n",
              "      <td>Gummidipundi/ Tamil Nadu 601201/ India</td>\n",
              "      <td>Ghaziabad/ Uttar Pradesh/ India</td>\n",
              "      <td>Thu Oct 31 2019 18:30:29 GMT+0000 (UTC)</td>\n",
              "      <td>Sun Nov 10 2019 02:19:05 GMT+0000 (UTC)</td>\n",
              "      <td>False</td>\n",
              "      <td>Inactive</td>\n",
              "      <td>1.0</td>\n",
              "      <td>RARE</td>\n",
              "      <td>asis</td>\n",
              "      <td>HR</td>\n",
              "      <td>167.94</td>\n",
              "      <td>None</td>\n",
              "      <td>RARE</td>\n",
              "      <td>Gummidipundi</td>\n",
              "      <td>Tamil Nadu 601201</td>\n",
              "    </tr>\n",
              "    <tr>\n",
              "      <th>1</th>\n",
              "      <td>HR73A3318</td>\n",
              "      <td>Thu Oct 31 2019 18:34:29 GMT+0000 (UTC)</td>\n",
              "      <td>539.70</td>\n",
              "      <td>576.54</td>\n",
              "      <td>0.0</td>\n",
              "      <td>8</td>\n",
              "      <td>8.0</td>\n",
              "      <td>Gummidipundi/ Tamil Nadu 601201/ India</td>\n",
              "      <td>Coimbatore/ Tamil Nadu/ India</td>\n",
              "      <td>Thu Oct 31 2019 18:34:29 GMT+0000 (UTC)</td>\n",
              "      <td>Sat Nov 02 2019 17:52:45 GMT+0000 (UTC)</td>\n",
              "      <td>False</td>\n",
              "      <td>Inactive</td>\n",
              "      <td>1.0</td>\n",
              "      <td>RARE</td>\n",
              "      <td>ARSAD</td>\n",
              "      <td>HR</td>\n",
              "      <td>36.84</td>\n",
              "      <td>None</td>\n",
              "      <td>RARE</td>\n",
              "      <td>Gummidipundi</td>\n",
              "      <td>Tamil Nadu 601201</td>\n",
              "    </tr>\n",
              "    <tr>\n",
              "      <th>2</th>\n",
              "      <td>HR73A0658</td>\n",
              "      <td>Thu Oct 31 2019 18:36:35 GMT+0000 (UTC)</td>\n",
              "      <td>539.70</td>\n",
              "      <td>0.00</td>\n",
              "      <td>0.0</td>\n",
              "      <td>0</td>\n",
              "      <td>0.0</td>\n",
              "      <td>Gummidipundi/ Tamil Nadu 601201/ India</td>\n",
              "      <td>Coimbatore/ Tamil Nadu/ India</td>\n",
              "      <td>Thu Oct 31 2019 18:36:34 GMT+0000 (UTC)</td>\n",
              "      <td>Sat Nov 02 2019 17:52:42 GMT+0000 (UTC)</td>\n",
              "      <td>False</td>\n",
              "      <td>Inactive</td>\n",
              "      <td>1.0</td>\n",
              "      <td>RARE</td>\n",
              "      <td>jafru</td>\n",
              "      <td>HR</td>\n",
              "      <td>-539.70</td>\n",
              "      <td>None</td>\n",
              "      <td>RARE</td>\n",
              "      <td>Gummidipundi</td>\n",
              "      <td>Tamil Nadu 601201</td>\n",
              "    </tr>\n",
              "    <tr>\n",
              "      <th>3</th>\n",
              "      <td>HR47D7760</td>\n",
              "      <td>Thu Oct 31 2019 18:57:26 GMT+0000 (UTC)</td>\n",
              "      <td>1845.07</td>\n",
              "      <td>1967.29</td>\n",
              "      <td>0.0</td>\n",
              "      <td>55</td>\n",
              "      <td>55.0</td>\n",
              "      <td>Vallakkottai/ Tamil Nadu 631604/ India</td>\n",
              "      <td>Bol/ Gujarat/ India</td>\n",
              "      <td>Thu Oct 31 2019 18:57:25 GMT+0000 (UTC)</td>\n",
              "      <td>Fri Nov 08 2019 05:22:26 GMT+0000 (UTC)</td>\n",
              "      <td>False</td>\n",
              "      <td>Inactive</td>\n",
              "      <td>1.0</td>\n",
              "      <td>WHITE DATA SYSTEMS INDIA PRIVATE LIMITED/TVS C...</td>\n",
              "      <td>MOHAMMED KASAM</td>\n",
              "      <td>HR</td>\n",
              "      <td>122.22</td>\n",
              "      <td>None</td>\n",
              "      <td>WHITE DATA SYSTEMS INDIA PRIVATE LIMITED/TVS C...</td>\n",
              "      <td>Vallakkottai</td>\n",
              "      <td>Tamil Nadu 631604</td>\n",
              "    </tr>\n",
              "    <tr>\n",
              "      <th>4</th>\n",
              "      <td>TN54K5834</td>\n",
              "      <td>Thu Oct 31 2019 18:58:23 GMT+0000 (UTC)</td>\n",
              "      <td>1845.07</td>\n",
              "      <td>2165.87</td>\n",
              "      <td>0.0</td>\n",
              "      <td>75</td>\n",
              "      <td>75.0</td>\n",
              "      <td>Vallakkottai/ Tamil Nadu 631604/ India</td>\n",
              "      <td>Bol/ Gujarat/ India</td>\n",
              "      <td>Thu Oct 31 2019 18:58:22 GMT+0000 (UTC)</td>\n",
              "      <td>Fri Nov 08 2019 05:22:22 GMT+0000 (UTC)</td>\n",
              "      <td>False</td>\n",
              "      <td>Inactive</td>\n",
              "      <td>1.0</td>\n",
              "      <td>WHITE DATA SYSTEMS INDIA PRIVATE LIMITED/TVS C...</td>\n",
              "      <td>MURUGAN</td>\n",
              "      <td>TN</td>\n",
              "      <td>320.80</td>\n",
              "      <td>None</td>\n",
              "      <td>WHITE DATA SYSTEMS INDIA PRIVATE LIMITED/TVS C...</td>\n",
              "      <td>Vallakkottai</td>\n",
              "      <td>Tamil Nadu 631604</td>\n",
              "    </tr>\n",
              "  </tbody>\n",
              "</table>\n",
              "</div>"
            ],
            "text/plain": [
              "  Vehicle No  ...         OriginState\n",
              "0  HR73A9291  ...   Tamil Nadu 601201\n",
              "1  HR73A3318  ...   Tamil Nadu 601201\n",
              "2  HR73A0658  ...   Tamil Nadu 601201\n",
              "3  HR47D7760  ...   Tamil Nadu 631604\n",
              "4  TN54K5834  ...   Tamil Nadu 631604\n",
              "\n",
              "[5 rows x 22 columns]"
            ]
          },
          "metadata": {
            "tags": []
          },
          "execution_count": 125
        }
      ]
    },
    {
      "cell_type": "code",
      "metadata": {
        "id": "FD9QaeJJpeBA",
        "colab_type": "code",
        "outputId": "c4b67b34-c48a-4349-9c9d-d2cc4dcf6605",
        "colab": {
          "base_uri": "https://localhost:8080/",
          "height": 34
        }
      },
      "source": [
        "data['Start Time'].nunique()"
      ],
      "execution_count": 0,
      "outputs": [
        {
          "output_type": "execute_result",
          "data": {
            "text/plain": [
              "17303"
            ]
          },
          "metadata": {
            "tags": []
          },
          "execution_count": 126
        }
      ]
    },
    {
      "cell_type": "code",
      "metadata": {
        "id": "LqNVrIXAqZdf",
        "colab_type": "code",
        "outputId": "5df309ce-4c1b-42b2-bd5f-8698d62cd980",
        "colab": {
          "base_uri": "https://localhost:8080/",
          "height": 486
        }
      },
      "source": [
        "data.info()"
      ],
      "execution_count": 0,
      "outputs": [
        {
          "output_type": "stream",
          "text": [
            "<class 'pandas.core.frame.DataFrame'>\n",
            "Int64Index: 17357 entries, 0 to 17408\n",
            "Data columns (total 22 columns):\n",
            "Vehicle No             17357 non-null object\n",
            "Created                17357 non-null object\n",
            "Total Distance         17357 non-null float64\n",
            "Distance Travelled     17357 non-null float64\n",
            "Remaining Distance     17357 non-null float64\n",
            "No Of Pings            17357 non-null int64\n",
            "Pings Used             17357 non-null float64\n",
            "Origin                 17357 non-null object\n",
            "Destination            17357 non-null object\n",
            "Start Time             17357 non-null object\n",
            "End Time               17357 non-null object\n",
            "Slot Frequency         17357 non-null bool\n",
            "Tracking Status        17357 non-null object\n",
            "Driver Count           17357 non-null float64\n",
            "Companies              17357 non-null object\n",
            "Drivers                17357 non-null object\n",
            "State                  17357 non-null object\n",
            "diff                   17357 non-null float64\n",
            "LessActiveCompanies    85 non-null object\n",
            "MoreActiveCompanies    10819 non-null object\n",
            "OriginArea             17357 non-null object\n",
            "OriginState            17357 non-null object\n",
            "dtypes: bool(1), float64(6), int64(1), object(14)\n",
            "memory usage: 2.9+ MB\n"
          ],
          "name": "stdout"
        }
      ]
    },
    {
      "cell_type": "code",
      "metadata": {
        "id": "-w5cJBW3qf4j",
        "colab_type": "code",
        "colab": {}
      },
      "source": [
        "from datetime import datetime"
      ],
      "execution_count": 0,
      "outputs": []
    },
    {
      "cell_type": "code",
      "metadata": {
        "id": "oWlagThPq2nw",
        "colab_type": "code",
        "colab": {}
      },
      "source": [
        "data['Start Time'] = pd.to_datetime(data['Start Time'])"
      ],
      "execution_count": 0,
      "outputs": []
    },
    {
      "cell_type": "code",
      "metadata": {
        "id": "1cri3kEFrGJc",
        "colab_type": "code",
        "colab": {}
      },
      "source": [
        "def getWeekData(date):\n",
        "  if(date == 'ETN'):\n",
        "    return 'ETN'\n",
        "  weekDays = (\"Monday\",\"Tuesday\",\"Wednesday\",\"Thursday\",\"Friday\",\"Saturday\",\"Sunday\")\n",
        "  thisXMasDay = date.weekday()\n",
        "  strweek = weekDays[thisXMasDay]\n",
        "  return strweek"
      ],
      "execution_count": 0,
      "outputs": []
    },
    {
      "cell_type": "code",
      "metadata": {
        "id": "CS8hmr5crIoe",
        "colab_type": "code",
        "outputId": "2f108933-7712-4ed7-a75d-15a99633822c",
        "colab": {
          "base_uri": "https://localhost:8080/",
          "height": 34
        }
      },
      "source": [
        "getWeekData(data['Start Time'][0])"
      ],
      "execution_count": 0,
      "outputs": [
        {
          "output_type": "execute_result",
          "data": {
            "text/plain": [
              "'Thursday'"
            ]
          },
          "metadata": {
            "tags": []
          },
          "execution_count": 131
        }
      ]
    },
    {
      "cell_type": "code",
      "metadata": {
        "id": "pFFtcjPzsKrk",
        "colab_type": "code",
        "colab": {}
      },
      "source": [
        "data['TripDay'] = data['Start Time'].apply(getWeekData)"
      ],
      "execution_count": 0,
      "outputs": []
    },
    {
      "cell_type": "code",
      "metadata": {
        "id": "N_9-LSOksc7q",
        "colab_type": "code",
        "outputId": "ded8ae60-57d4-4473-ff2e-0819484dbafe",
        "colab": {
          "base_uri": "https://localhost:8080/",
          "height": 52
        }
      },
      "source": [
        "data['TripDay'].unique()"
      ],
      "execution_count": 0,
      "outputs": [
        {
          "output_type": "execute_result",
          "data": {
            "text/plain": [
              "array(['Thursday', 'Friday', 'Saturday', 'Sunday', 'Monday', 'Tuesday',\n",
              "       'Wednesday'], dtype=object)"
            ]
          },
          "metadata": {
            "tags": []
          },
          "execution_count": 140
        }
      ]
    },
    {
      "cell_type": "code",
      "metadata": {
        "id": "cSaCl7TtsiaU",
        "colab_type": "code",
        "outputId": "a18446ba-cb20-447b-b508-58551f3f8866",
        "colab": {
          "base_uri": "https://localhost:8080/",
          "height": 156
        }
      },
      "source": [
        "data['TripDay'].value_counts()"
      ],
      "execution_count": 0,
      "outputs": [
        {
          "output_type": "execute_result",
          "data": {
            "text/plain": [
              "Friday       3092\n",
              "Saturday     2949\n",
              "Thursday     2850\n",
              "Wednesday    2639\n",
              "Tuesday      2592\n",
              "Monday       2354\n",
              "Sunday        881\n",
              "Name: TripDay, dtype: int64"
            ]
          },
          "metadata": {
            "tags": []
          },
          "execution_count": 141
        }
      ]
    },
    {
      "cell_type": "code",
      "metadata": {
        "id": "tV6R5sy5s0ZO",
        "colab_type": "code",
        "colab": {}
      },
      "source": [
        ""
      ],
      "execution_count": 0,
      "outputs": []
    },
    {
      "cell_type": "markdown",
      "metadata": {
        "id": "2qD3TjDIs_O_",
        "colab_type": "text"
      },
      "source": [
        "Trips are creating more on saturday and Friday. sunday less trips are creating"
      ]
    },
    {
      "cell_type": "markdown",
      "metadata": {
        "id": "e5kSg3Icu9xK",
        "colab_type": "text"
      },
      "source": [
        ""
      ]
    },
    {
      "cell_type": "code",
      "metadata": {
        "id": "-RporxCVu_ao",
        "colab_type": "code",
        "colab": {}
      },
      "source": [
        "def getEndTimeData(d):\n",
        "  if(d == 'ETN'):\n",
        "    return 'ETN'\n",
        "  else :\n",
        "     return pd.to_datetime(d)  "
      ],
      "execution_count": 0,
      "outputs": []
    },
    {
      "cell_type": "code",
      "metadata": {
        "id": "QX_hPqFYtMGz",
        "colab_type": "code",
        "colab": {}
      },
      "source": [
        "data['End Time'] = data['End Time'].apply(getEndTimeData)"
      ],
      "execution_count": 0,
      "outputs": []
    },
    {
      "cell_type": "code",
      "metadata": {
        "id": "AZ48cgvNuSQ1",
        "colab_type": "code",
        "colab": {}
      },
      "source": [
        "data['EndWeekDay'] = data['End Time'].apply(getWeekData)"
      ],
      "execution_count": 0,
      "outputs": []
    },
    {
      "cell_type": "code",
      "metadata": {
        "id": "K8YCJcxtwPho",
        "colab_type": "code",
        "outputId": "2f8d589c-20e9-47ab-9e5f-918fb1bddf1b",
        "colab": {
          "base_uri": "https://localhost:8080/",
          "height": 52
        }
      },
      "source": [
        "data['EndWeekDay'].unique()"
      ],
      "execution_count": 0,
      "outputs": [
        {
          "output_type": "execute_result",
          "data": {
            "text/plain": [
              "array(['Sunday', 'Saturday', 'Friday', 'Wednesday', 'Tuesday', 'Thursday',\n",
              "       'Monday', 'ETN'], dtype=object)"
            ]
          },
          "metadata": {
            "tags": []
          },
          "execution_count": 145
        }
      ]
    },
    {
      "cell_type": "code",
      "metadata": {
        "id": "hTZv6Kh3wV2n",
        "colab_type": "code",
        "outputId": "561884f1-8b72-4ef7-cc5b-8ead6dbfac6a",
        "colab": {
          "base_uri": "https://localhost:8080/",
          "height": 173
        }
      },
      "source": [
        "data['EndWeekDay'].value_counts()"
      ],
      "execution_count": 0,
      "outputs": [
        {
          "output_type": "execute_result",
          "data": {
            "text/plain": [
              "ETN          3879\n",
              "Monday       3291\n",
              "Saturday     2348\n",
              "Thursday     2311\n",
              "Wednesday    2042\n",
              "Tuesday      1727\n",
              "Friday       1414\n",
              "Sunday        345\n",
              "Name: EndWeekDay, dtype: int64"
            ]
          },
          "metadata": {
            "tags": []
          },
          "execution_count": 146
        }
      ]
    },
    {
      "cell_type": "code",
      "metadata": {
        "id": "mAnMCSZFwZYE",
        "colab_type": "code",
        "outputId": "55942e51-f1c9-4faf-d747-4e7d8b4135cd",
        "colab": {
          "base_uri": "https://localhost:8080/",
          "height": 626
        }
      },
      "source": [
        "data.head()"
      ],
      "execution_count": 0,
      "outputs": [
        {
          "output_type": "execute_result",
          "data": {
            "text/html": [
              "<div>\n",
              "<style scoped>\n",
              "    .dataframe tbody tr th:only-of-type {\n",
              "        vertical-align: middle;\n",
              "    }\n",
              "\n",
              "    .dataframe tbody tr th {\n",
              "        vertical-align: top;\n",
              "    }\n",
              "\n",
              "    .dataframe thead th {\n",
              "        text-align: right;\n",
              "    }\n",
              "</style>\n",
              "<table border=\"1\" class=\"dataframe\">\n",
              "  <thead>\n",
              "    <tr style=\"text-align: right;\">\n",
              "      <th></th>\n",
              "      <th>Vehicle No</th>\n",
              "      <th>Created</th>\n",
              "      <th>Total Distance</th>\n",
              "      <th>Distance Travelled</th>\n",
              "      <th>Remaining Distance</th>\n",
              "      <th>No Of Pings</th>\n",
              "      <th>Pings Used</th>\n",
              "      <th>Origin</th>\n",
              "      <th>Destination</th>\n",
              "      <th>Start Time</th>\n",
              "      <th>End Time</th>\n",
              "      <th>Slot Frequency</th>\n",
              "      <th>Tracking Status</th>\n",
              "      <th>Driver Count</th>\n",
              "      <th>Companies</th>\n",
              "      <th>Drivers</th>\n",
              "      <th>State</th>\n",
              "      <th>diff</th>\n",
              "      <th>LessActiveCompanies</th>\n",
              "      <th>MoreActiveCompanies</th>\n",
              "      <th>OriginArea</th>\n",
              "      <th>OriginState</th>\n",
              "      <th>TripDay</th>\n",
              "      <th>EndWeekDay</th>\n",
              "    </tr>\n",
              "  </thead>\n",
              "  <tbody>\n",
              "    <tr>\n",
              "      <th>0</th>\n",
              "      <td>HR73A9291</td>\n",
              "      <td>Thu Oct 31 2019 18:30:29 GMT+0000 (UTC)</td>\n",
              "      <td>2134.62</td>\n",
              "      <td>2302.56</td>\n",
              "      <td>0.0</td>\n",
              "      <td>39</td>\n",
              "      <td>39.0</td>\n",
              "      <td>Gummidipundi/ Tamil Nadu 601201/ India</td>\n",
              "      <td>Ghaziabad/ Uttar Pradesh/ India</td>\n",
              "      <td>2019-10-31 18:30:29+00:00</td>\n",
              "      <td>2019-11-10 02:19:05+00:00</td>\n",
              "      <td>False</td>\n",
              "      <td>Inactive</td>\n",
              "      <td>1.0</td>\n",
              "      <td>RARE</td>\n",
              "      <td>asis</td>\n",
              "      <td>HR</td>\n",
              "      <td>167.94</td>\n",
              "      <td>None</td>\n",
              "      <td>RARE</td>\n",
              "      <td>Gummidipundi</td>\n",
              "      <td>Tamil Nadu 601201</td>\n",
              "      <td>Thursday</td>\n",
              "      <td>Sunday</td>\n",
              "    </tr>\n",
              "    <tr>\n",
              "      <th>1</th>\n",
              "      <td>HR73A3318</td>\n",
              "      <td>Thu Oct 31 2019 18:34:29 GMT+0000 (UTC)</td>\n",
              "      <td>539.70</td>\n",
              "      <td>576.54</td>\n",
              "      <td>0.0</td>\n",
              "      <td>8</td>\n",
              "      <td>8.0</td>\n",
              "      <td>Gummidipundi/ Tamil Nadu 601201/ India</td>\n",
              "      <td>Coimbatore/ Tamil Nadu/ India</td>\n",
              "      <td>2019-10-31 18:34:29+00:00</td>\n",
              "      <td>2019-11-02 17:52:45+00:00</td>\n",
              "      <td>False</td>\n",
              "      <td>Inactive</td>\n",
              "      <td>1.0</td>\n",
              "      <td>RARE</td>\n",
              "      <td>ARSAD</td>\n",
              "      <td>HR</td>\n",
              "      <td>36.84</td>\n",
              "      <td>None</td>\n",
              "      <td>RARE</td>\n",
              "      <td>Gummidipundi</td>\n",
              "      <td>Tamil Nadu 601201</td>\n",
              "      <td>Thursday</td>\n",
              "      <td>Saturday</td>\n",
              "    </tr>\n",
              "    <tr>\n",
              "      <th>2</th>\n",
              "      <td>HR73A0658</td>\n",
              "      <td>Thu Oct 31 2019 18:36:35 GMT+0000 (UTC)</td>\n",
              "      <td>539.70</td>\n",
              "      <td>0.00</td>\n",
              "      <td>0.0</td>\n",
              "      <td>0</td>\n",
              "      <td>0.0</td>\n",
              "      <td>Gummidipundi/ Tamil Nadu 601201/ India</td>\n",
              "      <td>Coimbatore/ Tamil Nadu/ India</td>\n",
              "      <td>2019-10-31 18:36:34+00:00</td>\n",
              "      <td>2019-11-02 17:52:42+00:00</td>\n",
              "      <td>False</td>\n",
              "      <td>Inactive</td>\n",
              "      <td>1.0</td>\n",
              "      <td>RARE</td>\n",
              "      <td>jafru</td>\n",
              "      <td>HR</td>\n",
              "      <td>-539.70</td>\n",
              "      <td>None</td>\n",
              "      <td>RARE</td>\n",
              "      <td>Gummidipundi</td>\n",
              "      <td>Tamil Nadu 601201</td>\n",
              "      <td>Thursday</td>\n",
              "      <td>Saturday</td>\n",
              "    </tr>\n",
              "    <tr>\n",
              "      <th>3</th>\n",
              "      <td>HR47D7760</td>\n",
              "      <td>Thu Oct 31 2019 18:57:26 GMT+0000 (UTC)</td>\n",
              "      <td>1845.07</td>\n",
              "      <td>1967.29</td>\n",
              "      <td>0.0</td>\n",
              "      <td>55</td>\n",
              "      <td>55.0</td>\n",
              "      <td>Vallakkottai/ Tamil Nadu 631604/ India</td>\n",
              "      <td>Bol/ Gujarat/ India</td>\n",
              "      <td>2019-10-31 18:57:25+00:00</td>\n",
              "      <td>2019-11-08 05:22:26+00:00</td>\n",
              "      <td>False</td>\n",
              "      <td>Inactive</td>\n",
              "      <td>1.0</td>\n",
              "      <td>WHITE DATA SYSTEMS INDIA PRIVATE LIMITED/TVS C...</td>\n",
              "      <td>MOHAMMED KASAM</td>\n",
              "      <td>HR</td>\n",
              "      <td>122.22</td>\n",
              "      <td>None</td>\n",
              "      <td>WHITE DATA SYSTEMS INDIA PRIVATE LIMITED/TVS C...</td>\n",
              "      <td>Vallakkottai</td>\n",
              "      <td>Tamil Nadu 631604</td>\n",
              "      <td>Thursday</td>\n",
              "      <td>Friday</td>\n",
              "    </tr>\n",
              "    <tr>\n",
              "      <th>4</th>\n",
              "      <td>TN54K5834</td>\n",
              "      <td>Thu Oct 31 2019 18:58:23 GMT+0000 (UTC)</td>\n",
              "      <td>1845.07</td>\n",
              "      <td>2165.87</td>\n",
              "      <td>0.0</td>\n",
              "      <td>75</td>\n",
              "      <td>75.0</td>\n",
              "      <td>Vallakkottai/ Tamil Nadu 631604/ India</td>\n",
              "      <td>Bol/ Gujarat/ India</td>\n",
              "      <td>2019-10-31 18:58:22+00:00</td>\n",
              "      <td>2019-11-08 05:22:22+00:00</td>\n",
              "      <td>False</td>\n",
              "      <td>Inactive</td>\n",
              "      <td>1.0</td>\n",
              "      <td>WHITE DATA SYSTEMS INDIA PRIVATE LIMITED/TVS C...</td>\n",
              "      <td>MURUGAN</td>\n",
              "      <td>TN</td>\n",
              "      <td>320.80</td>\n",
              "      <td>None</td>\n",
              "      <td>WHITE DATA SYSTEMS INDIA PRIVATE LIMITED/TVS C...</td>\n",
              "      <td>Vallakkottai</td>\n",
              "      <td>Tamil Nadu 631604</td>\n",
              "      <td>Thursday</td>\n",
              "      <td>Friday</td>\n",
              "    </tr>\n",
              "  </tbody>\n",
              "</table>\n",
              "</div>"
            ],
            "text/plain": [
              "  Vehicle No                                  Created  ...   TripDay  EndWeekDay\n",
              "0  HR73A9291  Thu Oct 31 2019 18:30:29 GMT+0000 (UTC)  ...  Thursday      Sunday\n",
              "1  HR73A3318  Thu Oct 31 2019 18:34:29 GMT+0000 (UTC)  ...  Thursday    Saturday\n",
              "2  HR73A0658  Thu Oct 31 2019 18:36:35 GMT+0000 (UTC)  ...  Thursday    Saturday\n",
              "3  HR47D7760  Thu Oct 31 2019 18:57:26 GMT+0000 (UTC)  ...  Thursday      Friday\n",
              "4  TN54K5834  Thu Oct 31 2019 18:58:23 GMT+0000 (UTC)  ...  Thursday      Friday\n",
              "\n",
              "[5 rows x 24 columns]"
            ]
          },
          "metadata": {
            "tags": []
          },
          "execution_count": 147
        }
      ]
    },
    {
      "cell_type": "code",
      "metadata": {
        "id": "Cl6Q3CqOw67w",
        "colab_type": "code",
        "outputId": "c6d2191a-cad8-46a4-8198-a60ee9fa2ece",
        "colab": {
          "base_uri": "https://localhost:8080/",
          "height": 34
        }
      },
      "source": [
        "data['Start Time'][6].hour"
      ],
      "execution_count": 0,
      "outputs": [
        {
          "output_type": "execute_result",
          "data": {
            "text/plain": [
              "20"
            ]
          },
          "metadata": {
            "tags": []
          },
          "execution_count": 148
        }
      ]
    },
    {
      "cell_type": "markdown",
      "metadata": {
        "id": "aef9KVT52J9c",
        "colab_type": "text"
      },
      "source": [
        "Get Time Slots based on Created Time"
      ]
    },
    {
      "cell_type": "code",
      "metadata": {
        "id": "ZXAA0dpi08U7",
        "colab_type": "code",
        "colab": {}
      },
      "source": [
        "def getTimeSlots(hour):\n",
        "  if hour>=11 and hour<=4 :\n",
        "    return 'Mid Night'\n",
        "  if hour>=5 and hour<=8 :\n",
        "    return 'Early Morning'  \n",
        "  if hour>=9 and hour<=12 :\n",
        "    return 'Morning'  \n",
        "  if hour>=13 and hour<=17 :\n",
        "    return 'Ofternoon'\n",
        "  if hour>=18 and hour<=20:\n",
        "    return 'Evening'  \n",
        "  if hour>=21 and hour<=24 :\n",
        "    return ' Night'    "
      ],
      "execution_count": 0,
      "outputs": []
    },
    {
      "cell_type": "code",
      "metadata": {
        "id": "Qo6_A4Sy3EBa",
        "colab_type": "code",
        "colab": {}
      },
      "source": [
        "data['Time Slot'] = data['Start Time'].apply(lambda l : getTimeSlots(l.hour))"
      ],
      "execution_count": 0,
      "outputs": []
    },
    {
      "cell_type": "code",
      "metadata": {
        "id": "m8TnDe2W3Fb-",
        "colab_type": "code",
        "outputId": "7b173891-2727-4eee-b283-d2f7f0fcbffd",
        "colab": {
          "base_uri": "https://localhost:8080/",
          "height": 121
        }
      },
      "source": [
        "data['Time Slot'].value_counts()"
      ],
      "execution_count": 0,
      "outputs": [
        {
          "output_type": "execute_result",
          "data": {
            "text/plain": [
              "Morning          6523\n",
              "Ofternoon        4872\n",
              "Early Morning    3933\n",
              "Evening           760\n",
              " Night            390\n",
              "Name: Time Slot, dtype: int64"
            ]
          },
          "metadata": {
            "tags": []
          },
          "execution_count": 151
        }
      ]
    },
    {
      "cell_type": "code",
      "metadata": {
        "id": "vL5mD0hl4RHU",
        "colab_type": "code",
        "outputId": "97c4c129-71c1-40ef-9ecf-02768957485f",
        "colab": {
          "base_uri": "https://localhost:8080/",
          "height": 361
        }
      },
      "source": [
        "sns.countplot(x='Time Slot',data = data,hue = 'TripDay')"
      ],
      "execution_count": 0,
      "outputs": [
        {
          "output_type": "execute_result",
          "data": {
            "text/plain": [
              "<matplotlib.axes._subplots.AxesSubplot at 0x7f176dec54e0>"
            ]
          },
          "metadata": {
            "tags": []
          },
          "execution_count": 161
        },
        {
          "output_type": "display_data",
          "data": {
            "image/png": "[encoded data removed]",
            "text/plain": [
              "<Figure size 576x360 with 1 Axes>"
            ]
          },
          "metadata": {
            "tags": []
          }
        }
      ]
    },
    {
      "cell_type": "code",
      "metadata": {
        "id": "q4fXf5vZ6REl",
        "colab_type": "code",
        "colab": {}
      },
      "source": [
        ""
      ],
      "execution_count": 0,
      "outputs": []
    }
  ]
}